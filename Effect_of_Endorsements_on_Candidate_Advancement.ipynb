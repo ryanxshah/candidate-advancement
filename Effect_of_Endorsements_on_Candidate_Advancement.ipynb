{
  "cells": [
    {
      "cell_type": "markdown",
      "metadata": {
        "tags": [],
        "cell_id": "9c9c97fd529a432f918a9221364c86cf",
        "is_collapsed": false,
        "formattedRanges": [],
        "deepnote_app_coordinates": {
          "h": 5,
          "w": 12,
          "x": 0,
          "y": 1
        },
        "deepnote_cell_type": "text-cell-h1",
        "id": "UdJEAdkmv061"
      },
      "source": [
        "# Data 102 Final Project - Effect of Endorsements on Candidate Advancement"
      ]
    },
    {
      "cell_type": "markdown",
      "metadata": {
        "tags": [],
        "cell_id": "1850c1a617994aa5886408b78da745dc",
        "is_collapsed": false,
        "formattedRanges": [],
        "deepnote_app_coordinates": {
          "h": 2,
          "w": 8,
          "x": 0,
          "y": 7
        },
        "deepnote_cell_type": "text-cell-p",
        "id": "t0386Rqav066"
      },
      "source": [
        "By Ryan Shah, Aishwarya Rane, Tanvee Joshi, and Aruna Sudarshan"
      ]
    },
    {
      "cell_type": "markdown",
      "metadata": {
        "tags": [],
        "cell_id": "fbdf7a2866674aaf8a68819d78f7b5c6",
        "is_collapsed": false,
        "formattedRanges": [],
        "deepnote_app_coordinates": {
          "h": 5,
          "w": 12,
          "x": 0,
          "y": 10
        },
        "deepnote_cell_type": "text-cell-h2",
        "id": "-Z76rVZUv066"
      },
      "source": [
        "## I. Data Cleaning & Uploading"
      ]
    },
    {
      "cell_type": "code",
      "metadata": {
        "tags": [],
        "cell_id": "b7fb7ee7e8654322b2a472faa659aeab",
        "source_hash": null,
        "execution_start": 1688331792042,
        "execution_millis": 15570,
        "deepnote_app_coordinates": {
          "h": 5,
          "w": 12,
          "x": 0,
          "y": 16
        },
        "deepnote_to_be_reexecuted": false,
        "deepnote_app_is_code_hidden": false,
        "deepnote_app_is_output_hidden": true,
        "deepnote_cell_type": "code",
        "colab": {
          "base_uri": "https://localhost:8080/"
        },
        "id": "uReopiDev067",
        "outputId": "84b9720a-371d-4ff9-d745-8ad3f6a5eebc"
      },
      "source": [
        "import pandas as pd\n",
        "import numpy as np\n",
        "import matplotlib.pyplot as plt\n",
        "import seaborn as sns\n",
        "!pip install statsmodels\n",
        "import statsmodels.api as sm\n",
        "import random\n",
        "import itertools\n",
        "import hashlib\n",
        "\n",
        "from statsmodels.stats.proportion import proportions_ztest"
      ],
      "execution_count": null,
      "outputs": [
        {
          "output_type": "stream",
          "name": "stdout",
          "text": [
            "Requirement already satisfied: statsmodels in /usr/local/lib/python3.10/dist-packages (0.14.0)\n",
            "Requirement already satisfied: numpy>=1.18 in /usr/local/lib/python3.10/dist-packages (from statsmodels) (1.23.5)\n",
            "Requirement already satisfied: scipy!=1.9.2,>=1.4 in /usr/local/lib/python3.10/dist-packages (from statsmodels) (1.11.3)\n",
            "Requirement already satisfied: pandas>=1.0 in /usr/local/lib/python3.10/dist-packages (from statsmodels) (1.5.3)\n",
            "Requirement already satisfied: patsy>=0.5.2 in /usr/local/lib/python3.10/dist-packages (from statsmodels) (0.5.3)\n",
            "Requirement already satisfied: packaging>=21.3 in /usr/local/lib/python3.10/dist-packages (from statsmodels) (23.2)\n",
            "Requirement already satisfied: python-dateutil>=2.8.1 in /usr/local/lib/python3.10/dist-packages (from pandas>=1.0->statsmodels) (2.8.2)\n",
            "Requirement already satisfied: pytz>=2020.1 in /usr/local/lib/python3.10/dist-packages (from pandas>=1.0->statsmodels) (2023.3.post1)\n",
            "Requirement already satisfied: six in /usr/local/lib/python3.10/dist-packages (from patsy>=0.5.2->statsmodels) (1.16.0)\n"
          ]
        }
      ]
    },
    {
      "cell_type": "code",
      "metadata": {
        "tags": [],
        "cell_id": "2f508c8917ce4995a000ef07afb6e118",
        "source_hash": null,
        "execution_start": 1686602079375,
        "execution_millis": 21,
        "deepnote_app_coordinates": {
          "h": 5,
          "w": 12,
          "x": 0,
          "y": 22
        },
        "deepnote_to_be_reexecuted": false,
        "deepnote_cell_type": "code",
        "id": "ejGAiHN2v069"
      },
      "source": [
        "# https://github.com/fivethirtyeight/data/tree/master/primary-candidates-2018\n",
        "\n",
        "dem = pd.read_csv(\"https://raw.githubusercontent.com/fivethirtyeight/data/master/primary-candidates-2018/dem_candidates.csv\", encoding='latin-1')\n",
        "rep = pd.read_csv(\"https://raw.githubusercontent.com/fivethirtyeight/data/master/primary-candidates-2018/rep_candidates.csv\", encoding='latin-1')\n",
        "\n",
        "# Remove \"On the Ballot,\" as it is irrelevant to our analysis\n",
        "dem = dem[dem['Primary Status']!='On the Ballot']\n",
        "rep = rep[rep['Primary Status']!='On the Ballot']"
      ],
      "execution_count": 9,
      "outputs": []
    },
    {
      "cell_type": "markdown",
      "metadata": {
        "tags": [],
        "cell_id": "7c81e2f1fa2546b585a94d3df732eba4",
        "is_collapsed": false,
        "formattedRanges": [],
        "deepnote_app_coordinates": {
          "h": 5,
          "w": 12,
          "x": 0,
          "y": 34
        },
        "deepnote_cell_type": "text-cell-h2",
        "id": "Wf1kgT8Jv06-"
      },
      "source": [
        "## II. Exploratory Data Analysis"
      ]
    },
    {
      "cell_type": "markdown",
      "metadata": {
        "tags": [],
        "cell_id": "d3b9c80ac5f04d3fa75e43953470f899",
        "is_collapsed": false,
        "formattedRanges": [],
        "deepnote_app_coordinates": {
          "h": 5,
          "w": 12,
          "x": 0,
          "y": 40
        },
        "deepnote_cell_type": "text-cell-h3",
        "id": "0Lq8ZpjMv06-"
      },
      "source": [
        "### a. Investigating Gun Sense and NRA Endorsements"
      ]
    },
    {
      "cell_type": "code",
      "metadata": {
        "tags": [],
        "cell_id": "e33b0dfe8e134e17bf37bda36464d6a1",
        "source_hash": null,
        "execution_start": 1686602079933,
        "execution_millis": 399,
        "deepnote_app_coordinates": {
          "h": 5,
          "w": 12,
          "x": 0,
          "y": 46
        },
        "deepnote_to_be_reexecuted": false,
        "deepnote_cell_type": "code",
        "id": "LbvY8oHlv06_",
        "outputId": "1a9dd994-6d06-4ae5-adb3-69e7423c6711",
        "colab": {
          "base_uri": "https://localhost:8080/",
          "height": 472
        }
      },
      "source": [
        "sns.countplot(data=dem, x=\"Primary Status\", hue=\"Guns Sense Candidate?\", hue_order=[\"Yes\", \"No\"], \\\n",
        "palette=[\"blue\", \"black\"]).set(title=\"Gun Sense Endorsed Candidates - Primary Status\");"
      ],
      "execution_count": 10,
      "outputs": [
        {
          "output_type": "display_data",
          "data": {
            "text/plain": [
              "<Figure size 640x480 with 1 Axes>"
            ],
            "image/png": "[encoded data removed]"
          },
          "metadata": {}
        }
      ]
    },
    {
      "cell_type": "code",
      "metadata": {
        "cell_id": "1ff3da8d3fe449299da266cf82800da5",
        "source_hash": null,
        "execution_start": 1686602080331,
        "execution_millis": 385,
        "deepnote_app_coordinates": {
          "h": 5,
          "w": 12,
          "x": 0,
          "y": 52
        },
        "deepnote_to_be_reexecuted": false,
        "deepnote_cell_type": "code",
        "id": "B7yAzcMBv06_",
        "outputId": "69199547-34cc-47a8-c323-c13464ddbc9b",
        "colab": {
          "base_uri": "https://localhost:8080/",
          "height": 472
        }
      },
      "source": [
        "sns.countplot(data=rep, x=\"Primary Status\", hue=\"NRA Endorsed?\", hue_order=[\"Yes\", \"No\"], \\\n",
        "palette=[\"red\", \"black\"]).set(title=\"NRA Endorsed Candidates - Primary Status\");"
      ],
      "execution_count": 11,
      "outputs": [
        {
          "output_type": "display_data",
          "data": {
            "text/plain": [
              "<Figure size 640x480 with 1 Axes>"
            ],
            "image/png": "[encoded data removed]"
          },
          "metadata": {}
        }
      ]
    },
    {
      "cell_type": "markdown",
      "metadata": {
        "tags": [],
        "cell_id": "5b6ebaa4954f44b5bf85f870afeb20ca",
        "is_collapsed": false,
        "formattedRanges": [
          {
            "type": "marks",
            "marks": {
              "bold": true
            },
            "toCodePoint": 15,
            "fromCodePoint": 0
          }
        ],
        "deepnote_app_coordinates": {
          "h": 2,
          "w": 8,
          "x": 0,
          "y": 58
        },
        "deepnote_cell_type": "text-cell-p",
        "id": "WiSZPToJv06_"
      },
      "source": [
        "Authors' Note: Note that there are significantly more candidates who advanced who were endorsed by Gun Sense than those who weren't. Of the candidates who lost, a majority of them were not endorsed by Gun Sense."
      ]
    },
    {
      "cell_type": "code",
      "metadata": {
        "tags": [],
        "cell_id": "083664a2c61f412c993b6553006a275d",
        "scrolled": false,
        "source_hash": null,
        "execution_start": 1686602080718,
        "execution_millis": 394,
        "deepnote_app_coordinates": {
          "h": 5,
          "w": 12,
          "x": 0,
          "y": 61
        },
        "deepnote_to_be_reexecuted": false,
        "deepnote_cell_type": "code",
        "id": "fCSrOOYPv06_",
        "outputId": "33a1eb9c-82e8-4613-df6d-78af84413bec",
        "colab": {
          "base_uri": "https://localhost:8080/",
          "height": 472
        }
      },
      "source": [
        "sns.boxplot(data=dem, x=\"Primary %\", y=\"Guns Sense Candidate?\", order=[\"Yes\", \"No\"], color=\"blue\")\\\n",
        ".set(title=\"Gun Sense Endorsed Candidates - Primary Votes Received (%)\");\n"
      ],
      "execution_count": 12,
      "outputs": [
        {
          "output_type": "display_data",
          "data": {
            "text/plain": [
              "<Figure size 640x480 with 1 Axes>"
            ],
            "image/png": "[encoded data removed]"
          },
          "metadata": {}
        }
      ]
    },
    {
      "cell_type": "code",
      "metadata": {
        "tags": [],
        "cell_id": "3e4788f2197e4615a80e6a784b04cc22",
        "source_hash": null,
        "execution_start": 1686602081113,
        "execution_millis": 342,
        "deepnote_app_coordinates": {
          "h": 5,
          "w": 12,
          "x": 0,
          "y": 67
        },
        "deepnote_to_be_reexecuted": false,
        "deepnote_cell_type": "code",
        "id": "7sQ7Q1U7v07A",
        "outputId": "05dea6c9-f8d9-4495-b2a7-577c862ad90b",
        "colab": {
          "base_uri": "https://localhost:8080/",
          "height": 472
        }
      },
      "source": [
        "sns.boxplot(data=rep, x=\"Primary %\", y=\"NRA Endorsed?\", hue_order=[\"Yes\", \"No\"], color=\"red\")\\\n",
        ".set(title=\"NRA Endorsed Candidates - Primary Votes Received (%)\");"
      ],
      "execution_count": 13,
      "outputs": [
        {
          "output_type": "display_data",
          "data": {
            "text/plain": [
              "<Figure size 640x480 with 1 Axes>"
            ],
            "image/png": "[encoded data removed]"
          },
          "metadata": {}
        }
      ]
    },
    {
      "cell_type": "markdown",
      "metadata": {
        "tags": [],
        "cell_id": "2f42e749542049d792def454e000bad7",
        "is_collapsed": false,
        "formattedRanges": [
          {
            "type": "marks",
            "marks": {
              "bold": true
            },
            "toCodePoint": 14,
            "fromCodePoint": 0
          }
        ],
        "deepnote_app_coordinates": {
          "h": 2,
          "w": 8,
          "x": 0,
          "y": 73
        },
        "deepnote_cell_type": "text-cell-p",
        "id": "e_7-HANkv07A"
      },
      "source": [
        "Authors' Note: Interestingly, we can observe that NRA endorsed candidates seemed to capture a higher % of the votes in the Primary compared to non-NRA endorsed candidates. The mean Primary % for NRA endorsed candidates is approximately 45%, while the mean Primary % for non-NRA endorsed candidates is approximately 5%, representing a large difference between the two. Additionally, we can observe that Gun Sense endorsed candidates seemed to capture a higher % of the votes in the Primary compared to non-Gun Sense endorsed candidates. The mean Primary % for Gun Sense endorsed candidates is approximately 30%, while the mean Primary % for non-Gun Sense endorsed candidates is approximately 10%, representing a large difference between the two."
      ]
    },
    {
      "cell_type": "markdown",
      "metadata": {
        "tags": [],
        "cell_id": "033bbabc9cc64ef4a4edfd1e8cb984d1",
        "is_collapsed": false,
        "formattedRanges": [],
        "deepnote_app_coordinates": {
          "h": 5,
          "w": 12,
          "x": 0,
          "y": 76
        },
        "deepnote_cell_type": "text-cell-h3",
        "id": "oDKXg-fLv07A"
      },
      "source": [
        "### b. Investigating Emily's List and Right to Life Endorsements"
      ]
    },
    {
      "cell_type": "code",
      "metadata": {
        "tags": [],
        "cell_id": "0f3354860ef4417c8bc8ef39f3d2ee79",
        "source_hash": null,
        "execution_start": 1686602081840,
        "execution_millis": 417,
        "deepnote_app_coordinates": {
          "h": 5,
          "w": 12,
          "x": 0,
          "y": 82
        },
        "deepnote_to_be_reexecuted": false,
        "deepnote_cell_type": "code",
        "id": "IlYKnn6lv07B",
        "outputId": "25057cdc-a159-4116-8312-80af92ff7d9b",
        "colab": {
          "base_uri": "https://localhost:8080/",
          "height": 472
        }
      },
      "source": [
        "sns.countplot(data=dem, x=\"Primary Status\", hue=\"Emily Endorsed?\", hue_order=[\"Yes\", \"No\"], \\\n",
        "palette=[\"blue\", \"black\"]).set(title=\"Emily's List Endorsed Candidates - Primary Status\");"
      ],
      "execution_count": 14,
      "outputs": [
        {
          "output_type": "display_data",
          "data": {
            "text/plain": [
              "<Figure size 640x480 with 1 Axes>"
            ],
            "image/png": "[encoded data removed]"
          },
          "metadata": {}
        }
      ]
    },
    {
      "cell_type": "code",
      "metadata": {
        "cell_id": "34f40a31a91f48ca814dcc5dc4f8bb13",
        "source_hash": null,
        "execution_start": 1686602082642,
        "execution_millis": 417,
        "deepnote_app_coordinates": {
          "h": 5,
          "w": 12,
          "x": 0,
          "y": 88
        },
        "deepnote_to_be_reexecuted": false,
        "deepnote_cell_type": "code",
        "id": "ItBMahDTv07B",
        "outputId": "17f311fa-27d3-4815-c195-0dbf7498a1f1",
        "colab": {
          "base_uri": "https://localhost:8080/",
          "height": 472
        }
      },
      "source": [
        "sns.countplot(data=rep, x=\"Primary Status\", hue=\"Right to Life Endorsed?\", hue_order=[\"Yes\", \"No\"], \\\n",
        "palette=[\"red\", \"black\"]).set(title=\"Right to Life Endorsed Candidates - Primary Status\");"
      ],
      "execution_count": 15,
      "outputs": [
        {
          "output_type": "display_data",
          "data": {
            "text/plain": [
              "<Figure size 640x480 with 1 Axes>"
            ],
            "image/png": "[encoded data removed]"
          },
          "metadata": {}
        }
      ]
    },
    {
      "cell_type": "code",
      "metadata": {
        "tags": [],
        "cell_id": "a9477ed27fd24d19afceba984440b0d5",
        "source_hash": null,
        "execution_start": 1686602083386,
        "execution_millis": 404,
        "deepnote_app_coordinates": {
          "h": 5,
          "w": 12,
          "x": 0,
          "y": 94
        },
        "deepnote_to_be_reexecuted": false,
        "deepnote_cell_type": "code",
        "id": "trp0XBLOv07B",
        "outputId": "53f90560-67b4-42d5-91a5-1acdfe0eb82b",
        "colab": {
          "base_uri": "https://localhost:8080/",
          "height": 472
        }
      },
      "source": [
        "sns.boxplot(data=dem, x=\"Primary %\", y=\"Emily Endorsed?\", order=[\"Yes\", \"No\"], color='blue')\\\n",
        ".set(title = \"Emily's List Endorsed Candidates - Primary Votes Received (%)\");"
      ],
      "execution_count": 16,
      "outputs": [
        {
          "output_type": "display_data",
          "data": {
            "text/plain": [
              "<Figure size 640x480 with 1 Axes>"
            ],
            "image/png": "[encoded data removed]"
          },
          "metadata": {}
        }
      ]
    },
    {
      "cell_type": "code",
      "metadata": {
        "tags": [],
        "cell_id": "484900a0f59f4162bddfb43c71382690",
        "source_hash": null,
        "execution_start": 1686602084175,
        "execution_millis": 305,
        "deepnote_app_coordinates": {
          "h": 5,
          "w": 12,
          "x": 0,
          "y": 100
        },
        "deepnote_to_be_reexecuted": false,
        "deepnote_cell_type": "code",
        "id": "Ipu7xc-cv07B",
        "outputId": "2e7ce6e3-2845-4f58-c54d-a1c53c3d6c7b",
        "colab": {
          "base_uri": "https://localhost:8080/",
          "height": 472
        }
      },
      "source": [
        "sns.boxplot(data=rep, x=\"Primary %\", y=\"Right to Life Endorsed?\", order=[\"Yes\", \"No\"], color='red')\\\n",
        ".set(title = \"Right to Life Endorsed Candidates - Primary Votes Received (%)\");"
      ],
      "execution_count": 17,
      "outputs": [
        {
          "output_type": "display_data",
          "data": {
            "text/plain": [
              "<Figure size 640x480 with 1 Axes>"
            ],
            "image/png": "[encoded data removed]"
          },
          "metadata": {}
        }
      ]
    },
    {
      "cell_type": "markdown",
      "metadata": {
        "tags": [],
        "cell_id": "24dba04530864d8ab7b5d040ae811ae3",
        "is_collapsed": false,
        "formattedRanges": [
          {
            "type": "marks",
            "marks": {
              "bold": true
            },
            "toCodePoint": 14,
            "fromCodePoint": 0
          }
        ],
        "deepnote_app_coordinates": {
          "h": 2,
          "w": 8,
          "x": 0,
          "y": 106
        },
        "deepnote_cell_type": "text-cell-p",
        "id": "df_KnnhFv07C"
      },
      "source": [
        "Authors' Note: We can note, here, that Right to Life endorsed candidates seemed to capture a higher % of the votes in the Primary compared to non-Right-to-Life endorsed candidates. The mean Primary % for Right to Life endorsed candidates is approximately 30%, while the mean Primary % for non-Right to Life endorsed candidates is approximately 5%, representing a large difference between the two. Additionally, we can observe that Emily's List endorsed candidates seemed to capture a higher % of the votes in the Primary compared to non-Emily's List endorsed candidates. The mean Primary % for NRA endorsed candidates is approximately 45%, while the mean Primary % for non-NRA endorsed candidates is approximately 10%, representing a large difference between the two."
      ]
    },
    {
      "cell_type": "markdown",
      "metadata": {
        "tags": [],
        "cell_id": "e4c30b96fdc64ada92a994b40efdb76b",
        "is_collapsed": false,
        "formattedRanges": [],
        "deepnote_app_coordinates": {
          "h": 5,
          "w": 12,
          "x": 0,
          "y": 109
        },
        "deepnote_cell_type": "text-cell-h3",
        "id": "7BtTDk65v07C"
      },
      "source": [
        "### c. Investigating Party Support"
      ]
    },
    {
      "cell_type": "code",
      "metadata": {
        "tags": [],
        "cell_id": "a3b5145b62704abfad6e3e8408cd21e1",
        "source_hash": null,
        "execution_start": 1686602091818,
        "execution_millis": 435,
        "deepnote_app_coordinates": {
          "h": 5,
          "w": 12,
          "x": 0,
          "y": 115
        },
        "deepnote_to_be_reexecuted": false,
        "deepnote_cell_type": "code",
        "id": "Ihu7c0eGv07C",
        "outputId": "faa56a5d-01b0-4ad4-84cc-509d2aabdb28",
        "colab": {
          "base_uri": "https://localhost:8080/",
          "height": 472
        }
      },
      "source": [
        "sns.countplot(data=dem, x=\"Primary Status\", hue=\"Party Support?\", hue_order=[\"Yes\", \"No\"], \\\n",
        "palette=[\"blue\", \"black\"]).set(title=\"Democratic Candidates With Party Support - Primary Status\");"
      ],
      "execution_count": 18,
      "outputs": [
        {
          "output_type": "display_data",
          "data": {
            "text/plain": [
              "<Figure size 640x480 with 1 Axes>"
            ],
            "image/png": "[encoded data removed]"
          },
          "metadata": {}
        }
      ]
    },
    {
      "cell_type": "code",
      "metadata": {
        "cell_id": "607f107b2d2a406e888c1b2065950000",
        "source_hash": null,
        "execution_start": 1686602092347,
        "execution_millis": 401,
        "deepnote_app_coordinates": {
          "h": 5,
          "w": 12,
          "x": 0,
          "y": 121
        },
        "deepnote_to_be_reexecuted": false,
        "deepnote_cell_type": "code",
        "id": "7YgNSmQev07C",
        "outputId": "073748bc-6c1f-42a3-e1a4-537b82257e39",
        "colab": {
          "base_uri": "https://localhost:8080/",
          "height": 472
        }
      },
      "source": [
        "sns.countplot(data=rep, x=\"Primary Status\", hue=\"Rep Party Support?\", hue_order=[\"Yes\", \"No\"], \\\n",
        "palette=[\"red\", \"black\"]).set(title=\"Republican Candidates With Party Support - Primary Status\");"
      ],
      "execution_count": 19,
      "outputs": [
        {
          "output_type": "display_data",
          "data": {
            "text/plain": [
              "<Figure size 640x480 with 1 Axes>"
            ],
            "image/png": "[encoded data removed]"
          },
          "metadata": {}
        }
      ]
    },
    {
      "cell_type": "code",
      "metadata": {
        "tags": [],
        "cell_id": "d2386a38a8394a63b8840be7fba15506",
        "source_hash": null,
        "execution_start": 1686602093588,
        "execution_millis": 343,
        "deepnote_app_coordinates": {
          "h": 5,
          "w": 12,
          "x": 0,
          "y": 127
        },
        "deepnote_to_be_reexecuted": false,
        "deepnote_cell_type": "code",
        "id": "kIqq7Fw8v07C",
        "outputId": "b09d0566-a0f5-41f0-e3e9-2e8c16f211ff",
        "colab": {
          "base_uri": "https://localhost:8080/",
          "height": 472
        }
      },
      "source": [
        "sns.boxplot(data=rep, x=\"Primary %\", y=\"Rep Party Support?\", order=[\"Yes\", \"No\"], color='red')\\\n",
        ".set(title=\"Republican Candidates with Party Support- Primary Votes Received (%)\");"
      ],
      "execution_count": 20,
      "outputs": [
        {
          "output_type": "display_data",
          "data": {
            "text/plain": [
              "<Figure size 640x480 with 1 Axes>"
            ],
            "image/png": "[encoded data removed]"
          },
          "metadata": {}
        }
      ]
    },
    {
      "cell_type": "code",
      "metadata": {
        "tags": [],
        "cell_id": "ca8b69c928dc47579bc11bf047d3ede6",
        "source_hash": null,
        "execution_start": 1686602094292,
        "execution_millis": 337,
        "deepnote_app_coordinates": {
          "h": 5,
          "w": 12,
          "x": 0,
          "y": 133
        },
        "deepnote_to_be_reexecuted": false,
        "deepnote_cell_type": "code",
        "id": "o0rhs9-vv07C",
        "outputId": "d3c74f83-8315-4268-88e7-8c00600825f4",
        "colab": {
          "base_uri": "https://localhost:8080/",
          "height": 472
        }
      },
      "source": [
        "sns.boxplot(data=dem, x=\"Primary %\", y=\"Party Support?\", order=[\"Yes\", \"No\"], color = 'blue')\\\n",
        ".set(title=\"Democratic Candidates with Party Support - Primary Votes Received (%)\");"
      ],
      "execution_count": 21,
      "outputs": [
        {
          "output_type": "display_data",
          "data": {
            "text/plain": [
              "<Figure size 640x480 with 1 Axes>"
            ],
            "image/png": "[encoded data removed]"
          },
          "metadata": {}
        }
      ]
    },
    {
      "cell_type": "markdown",
      "metadata": {
        "tags": [],
        "cell_id": "28e980eda8f3467ba617cdf2654673df",
        "is_collapsed": false,
        "formattedRanges": [
          {
            "type": "marks",
            "marks": {
              "bold": true
            },
            "toCodePoint": 14,
            "fromCodePoint": 0
          }
        ],
        "deepnote_app_coordinates": {
          "h": 2,
          "w": 8,
          "x": 0,
          "y": 139
        },
        "deepnote_cell_type": "text-cell-p",
        "id": "BAvLFcLVv07D"
      },
      "source": [
        "Authors' Note: We can note, here, that candidates in both the Democratic and Republican parties, who have party support, perform a lot better in the primaries than candidates in their party who do not have party endorsement. The mean Primary % for Democratic Party endorsed candidates is approximately 65%, while the mean Primary % for non-Democratic Party endorsed candidates is approximately 10%, representing a large difference between the two. The mean Primary % for Republican Party endorsed candidates is approximately 45%, while the mean Primary % for non-Republican Party endorsed candidates is approximately 10%, representing a large difference between the two. The differences in outcomes between candidates endorsed by their party and those who weren't also appears to be, on average, higher than the differences observed in previous exploratory analysis for Gun-Issue and Abortion-Issue Organizations"
      ]
    },
    {
      "cell_type": "markdown",
      "metadata": {
        "tags": [],
        "cell_id": "62f2e454e1a74e089e95c312d08789bc",
        "is_collapsed": false,
        "formattedRanges": [],
        "deepnote_app_coordinates": {
          "h": 2,
          "w": 8,
          "x": 0,
          "y": 142
        },
        "deepnote_cell_type": "text-cell-p",
        "id": "UhZkF--Zv07D"
      },
      "source": [
        "The trends we have observed above are integral to preliminary hypotheses as to what endorsements may be important to a candidate's success. However, we need to determine which endorsements are statistically significant, which we will delve more deeply into in the next section of analysis."
      ]
    },
    {
      "cell_type": "markdown",
      "metadata": {
        "tags": [],
        "cell_id": "f2b1c84224d64d4a84eaf21fc4a6080d",
        "is_collapsed": false,
        "formattedRanges": [],
        "deepnote_app_coordinates": {
          "h": 5,
          "w": 12,
          "x": 0,
          "y": 145
        },
        "deepnote_cell_type": "text-cell-h2",
        "id": "rlIH5XLbv07D"
      },
      "source": [
        "## III. Casual Inference"
      ]
    },
    {
      "cell_type": "markdown",
      "metadata": {
        "tags": [],
        "cell_id": "c50684f257394afe86838333b0408555",
        "is_collapsed": false,
        "formattedRanges": [],
        "deepnote_app_coordinates": {
          "h": 5,
          "w": 12,
          "x": 0,
          "y": 151
        },
        "deepnote_cell_type": "text-cell-h3",
        "id": "Ka-X0oZYv07D"
      },
      "source": [
        "### a. Data Cleaning"
      ]
    },
    {
      "cell_type": "code",
      "metadata": {
        "tags": [],
        "cell_id": "1d1128d9ff5e4d8ebd7c7ed4d86f42c7",
        "source_hash": null,
        "execution_start": 1686602095466,
        "execution_millis": 43,
        "deepnote_table_state": {
          "sortBy": [],
          "filters": [],
          "pageSize": 25,
          "pageIndex": 0
        },
        "deepnote_table_loading": false,
        "deepnote_app_coordinates": {
          "h": 5,
          "w": 12,
          "x": 0,
          "y": 157
        },
        "deepnote_to_be_reexecuted": false,
        "deepnote_cell_type": "code",
        "id": "qDlGpQchv07D"
      },
      "source": [
        "# Binarizing column values (Democratic)\n",
        "dem_cleaned = dem.copy()\n",
        "rep_cleaned = rep.copy()\n",
        "\n",
        "dem_cleaned[\"Primary Status\"] = pd.get_dummies(dem_cleaned[\"Primary Status\"])[\"Advanced\"]\n",
        "dem_cleaned[\"Party Support?\"] = pd.get_dummies(dem_cleaned[\"Party Support?\"])[\"Yes\"]\n",
        "\n",
        "#Endorsements\n",
        "dem_cleaned[\"Emily Endorsed?\"] = pd.get_dummies(dem_cleaned[\"Emily Endorsed?\"])[\"Yes\"]\n",
        "dem_cleaned[\"Guns Sense Candidate?\"] = pd.get_dummies(dem_cleaned[\"Guns Sense Candidate?\"])[\"Yes\"]\n",
        "dem_cleaned[\"Our Revolution Endorsed?\"] = pd.get_dummies(dem_cleaned[\"Our Revolution Endorsed?\"])[\"Yes\"]\n",
        "dem_cleaned[\"Biden Endorsed?\"] = pd.get_dummies(dem_cleaned[\"Biden Endorsed?\"])[\"Yes\"]\n",
        "\n",
        "#Identity\n",
        "dem_cleaned[\"Race\"] = pd.get_dummies(dem_cleaned[\"Race\"])[\"White\"]\n",
        "dem_cleaned[\"LGBTQ?\"] = pd.get_dummies(dem_cleaned[\"LGBTQ?\"])[\"Yes\"]\n",
        "dem_cleaned[\"Veteran?\"] = pd.get_dummies(dem_cleaned[\"Veteran?\"])[\"Yes\"]\n",
        "dem_cleaned[\"Self-Funder?\"] = pd.get_dummies(dem_cleaned[\"Self-Funder?\"])[\"Yes\"]\n",
        "dem_cleaned[\"Elected Official?\"] = pd.get_dummies(dem_cleaned[\"Elected Official?\"])[\"Yes\"]\n",
        "dem_cleaned[\"STEM?\"] = pd.get_dummies(dem_cleaned[\"STEM?\"])[\"Yes\"]\n",
        "\n",
        "# Binarizing column values (Republican)\n",
        "rep_cleaned[\"Primary Status\"] = pd.get_dummies(rep_cleaned[\"Primary Status\"])[\"Advanced\"]\n",
        "rep_cleaned[\"Rep Party Support?\"] = pd.get_dummies(rep_cleaned[\"Rep Party Support?\"])[\"Yes\"]\n",
        "rep_cleaned[\"Right to Life Endorsed?\"] = pd.get_dummies(rep_cleaned[\"Right to Life Endorsed?\"])[\"Yes\"]\n",
        "rep_cleaned[\"NRA Endorsed?\"] = pd.get_dummies(rep_cleaned[\"NRA Endorsed?\"])[\"Yes\"]\n",
        "rep_cleaned[\"Trump Endorsed?\"] = pd.get_dummies(rep_cleaned[\"Trump Endorsed?\"])[\"Yes\"]\n",
        "rep_cleaned[\"Club for Growth Endorsed?\"] = pd.get_dummies(rep_cleaned[\"Club for Growth Endorsed?\"])[\"Yes\"]\n",
        "\n",
        "# One hot encoding for state (dem df)\n",
        "one_hot_encoded_state = pd.get_dummies(dem_cleaned[\"State\"])\n",
        "dem_cleaned_joined = pd.concat([dem_cleaned, one_hot_encoded_state], axis=1, join=\"inner\")\n",
        "\n",
        "# One hot encoding for state (rep df)\n",
        "one_hot_encoded_state = pd.get_dummies(rep_cleaned[\"State\"])\n",
        "rep_cleaned_joined = pd.concat([rep_cleaned, one_hot_encoded_state], axis=1, join=\"inner\")"
      ],
      "execution_count": 22,
      "outputs": []
    },
    {
      "cell_type": "markdown",
      "metadata": {
        "tags": [],
        "cell_id": "ae3881ac91dd47d380499eb435c4092e",
        "is_collapsed": false,
        "formattedRanges": [],
        "deepnote_app_coordinates": {
          "h": 5,
          "w": 12,
          "x": 0,
          "y": 163
        },
        "deepnote_cell_type": "text-cell-h3",
        "id": "rMBfPGzev07E"
      },
      "source": [
        "###  b. OLS Model Function"
      ]
    },
    {
      "cell_type": "code",
      "metadata": {
        "tags": [],
        "cell_id": "48183bb8ca1f4e6facab84f561b3316b",
        "source_hash": null,
        "execution_start": 1686602097951,
        "execution_millis": 21,
        "deepnote_app_coordinates": {
          "h": 5,
          "w": 12,
          "x": 0,
          "y": 169
        },
        "deepnote_to_be_reexecuted": false,
        "deepnote_cell_type": "code",
        "id": "jT0Af7Xjv07E"
      },
      "source": [
        "def fit_OLS_model(df, target_variable, explanatory_variables, intercept = False):\n",
        "    \"\"\"\n",
        "    Fits an OLS model from data.\n",
        "\n",
        "    Inputs:\n",
        "        df: pandas DataFrame\n",
        "        target_variable: string, name of the target variable\n",
        "        explanatory_variables: list of strings, names of the explanatory variables\n",
        "        intercept: bool, if True add intercept term\n",
        "    Outputs:\n",
        "        fitted_model: model containing OLS regression results\n",
        "    \"\"\"\n",
        "\n",
        "    target = df[target_variable]\n",
        "    inputs = df[explanatory_variables]\n",
        "    if intercept:\n",
        "        inputs = sm.add_constant(inputs)\n",
        "\n",
        "    fitted_model = sm.OLS(target, inputs).fit()\n",
        "    return(fitted_model)"
      ],
      "execution_count": 23,
      "outputs": []
    },
    {
      "cell_type": "markdown",
      "metadata": {
        "tags": [],
        "cell_id": "96ae35af55c3428780c9cf725d84f66c",
        "is_collapsed": false,
        "formattedRanges": [],
        "deepnote_app_coordinates": {
          "h": 5,
          "w": 12,
          "x": 0,
          "y": 175
        },
        "deepnote_cell_type": "text-cell-h3",
        "id": "EXotk5WAv07E"
      },
      "source": [
        "### c. Fitted OLS Models"
      ]
    },
    {
      "cell_type": "markdown",
      "metadata": {
        "tags": [],
        "cell_id": "97b8fb6dfa484cf4a3684029805db9e8",
        "deepnote_app_coordinates": {
          "h": 5,
          "w": 12,
          "x": 0,
          "y": 181
        },
        "deepnote_cell_type": "markdown",
        "id": "lOQJ5XXfv07E"
      },
      "source": [
        "#### Model 1: Understanding the Effect of Party Support on Democratic Candidate Primary Status"
      ]
    },
    {
      "cell_type": "code",
      "metadata": {
        "tags": [],
        "cell_id": "990ef06b522b4ea69fe38c74c28e29ed",
        "source_hash": null,
        "execution_start": 1686602098640,
        "execution_millis": 48,
        "deepnote_app_coordinates": {
          "h": 5,
          "w": 12,
          "x": 0,
          "y": 187
        },
        "deepnote_to_be_reexecuted": false,
        "deepnote_cell_type": "code",
        "id": "NMav_5YLv07E",
        "outputId": "73707a3e-c613-428e-df66-210d98be608b",
        "colab": {
          "base_uri": "https://localhost:8080/"
        }
      },
      "source": [
        "dem_simple_gammas_model = fit_OLS_model(dem_cleaned, 'Primary Status', \"Party Support?\")\n",
        "print(dem_simple_gammas_model.summary())"
      ],
      "execution_count": 24,
      "outputs": [
        {
          "output_type": "stream",
          "name": "stdout",
          "text": [
            "                                 OLS Regression Results                                \n",
            "=======================================================================================\n",
            "Dep. Variable:         Primary Status   R-squared (uncentered):                 -24.544\n",
            "Model:                            OLS   Adj. R-squared (uncentered):            -24.576\n",
            "Method:                 Least Squares   F-statistic:                             -778.3\n",
            "Date:                Tue, 24 Oct 2023   Prob (F-statistic):                        1.00\n",
            "Time:                        03:43:58   Log-Likelihood:                         -639.57\n",
            "No. Observations:                 811   AIC:                                      1281.\n",
            "Df Residuals:                     810   BIC:                                      1286.\n",
            "Df Model:                           1                                                  \n",
            "Covariance Type:            nonrobust                                                  \n",
            "==================================================================================\n",
            "                     coef    std err          t      P>|t|      [0.025      0.975]\n",
            "----------------------------------------------------------------------------------\n",
            "Party Support?     0.9487      0.085     11.121      0.000       0.781       1.116\n",
            "==============================================================================\n",
            "Omnibus:                      228.678   Durbin-Watson:                   1.542\n",
            "Prob(Omnibus):                  0.000   Jarque-Bera (JB):              144.157\n",
            "Skew:                           0.913   Prob(JB):                     4.97e-32\n",
            "Kurtosis:                       2.035   Cond. No.                         1.00\n",
            "==============================================================================\n",
            "\n",
            "Notes:\n",
            "[1] R² is computed without centering (uncentered) since the model does not contain a constant.\n",
            "[2] Standard Errors assume that the covariance matrix of the errors is correctly specified.\n"
          ]
        }
      ]
    },
    {
      "cell_type": "markdown",
      "metadata": {
        "tags": [],
        "cell_id": "e8f0bc7bfd5646c68b4007370b2c5db9",
        "deepnote_app_coordinates": {
          "h": 5,
          "w": 12,
          "x": 0,
          "y": 193
        },
        "deepnote_cell_type": "markdown",
        "id": "Oisu8C5qv07E"
      },
      "source": [
        "#### Model 2: Understanding the Effect of Party Support on Republican Candidate Primary Status"
      ]
    },
    {
      "cell_type": "code",
      "metadata": {
        "tags": [],
        "cell_id": "12935630aaec4af2bd0805e160ebbaea",
        "source_hash": null,
        "execution_start": 1673502002057,
        "execution_millis": 2,
        "deepnote_app_coordinates": {
          "h": 5,
          "w": 12,
          "x": 0,
          "y": 199
        },
        "deepnote_to_be_reexecuted": false,
        "deepnote_cell_type": "code",
        "id": "ewvJ4KfUv07F",
        "outputId": "23fb5caf-9a74-4664-f09d-83022b385c0c",
        "colab": {
          "base_uri": "https://localhost:8080/"
        }
      },
      "source": [
        "rep_simple_gammas_model = fit_OLS_model(rep_cleaned, 'Primary Status', \"Rep Party Support?\")\n",
        "print(rep_simple_gammas_model.summary())"
      ],
      "execution_count": 25,
      "outputs": [
        {
          "output_type": "stream",
          "name": "stdout",
          "text": [
            "                                 OLS Regression Results                                \n",
            "=======================================================================================\n",
            "Dep. Variable:         Primary Status   R-squared (uncentered):                    -inf\n",
            "Model:                            OLS   Adj. R-squared (uncentered):               -inf\n",
            "Method:                 Least Squares   F-statistic:                             -771.0\n",
            "Date:                Tue, 24 Oct 2023   Prob (F-statistic):                        1.00\n",
            "Time:                        03:44:00   Log-Likelihood:                         -631.12\n",
            "No. Observations:                 772   AIC:                                      1264.\n",
            "Df Residuals:                     771   BIC:                                      1269.\n",
            "Df Model:                           1                                                  \n",
            "Covariance Type:            nonrobust                                                  \n",
            "======================================================================================\n",
            "                         coef    std err          t      P>|t|      [0.025      0.975]\n",
            "--------------------------------------------------------------------------------------\n",
            "Rep Party Support?     0.6190      0.069      8.960      0.000       0.483       0.755\n",
            "==============================================================================\n",
            "Omnibus:                      185.049   Durbin-Watson:                   1.208\n",
            "Prob(Omnibus):                  0.000   Jarque-Bera (JB):               84.553\n",
            "Skew:                           0.650   Prob(JB):                     4.36e-19\n",
            "Kurtosis:                       2.031   Cond. No.                         1.00\n",
            "==============================================================================\n",
            "\n",
            "Notes:\n",
            "[1] R² is computed without centering (uncentered) since the model does not contain a constant.\n",
            "[2] Standard Errors assume that the covariance matrix of the errors is correctly specified.\n"
          ]
        },
        {
          "output_type": "stream",
          "name": "stderr",
          "text": [
            "/usr/local/lib/python3.10/dist-packages/statsmodels/regression/linear_model.py:1783: RuntimeWarning: divide by zero encountered in double_scalars\n",
            "  return 1 - self.ssr/self.uncentered_tss\n"
          ]
        }
      ]
    },
    {
      "cell_type": "markdown",
      "metadata": {
        "tags": [],
        "cell_id": "359edc1e309e47c1976b853b8d8bd85b",
        "deepnote_app_coordinates": {
          "h": 5,
          "w": 12,
          "x": 0,
          "y": 205
        },
        "deepnote_cell_type": "markdown",
        "id": "NM6S1sjqv07F"
      },
      "source": [
        "#### Model 3: Understanding the Effect of Being From a Particular State on Democratic Candidate Primary Status"
      ]
    },
    {
      "cell_type": "code",
      "metadata": {
        "tags": [],
        "cell_id": "521e25e8efa14554a829ff8e5f20f9a7",
        "source_hash": null,
        "execution_start": 1673502002058,
        "execution_millis": 148,
        "deepnote_app_coordinates": {
          "h": 5,
          "w": 12,
          "x": 0,
          "y": 211
        },
        "deepnote_to_be_reexecuted": false,
        "deepnote_cell_type": "code",
        "id": "tJddnR_kv07K",
        "outputId": "58c77c8e-7eba-47d1-93cb-6b79be713b02",
        "colab": {
          "base_uri": "https://localhost:8080/"
        }
      },
      "source": [
        "dem_confounding_gammas_model = fit_OLS_model(dem_cleaned_joined, 'Primary Status', [\"Party Support?\", 'ND', 'AZ',\n",
        "                                                                                    'SD', 'MT', 'UT', 'OR', 'ID',\n",
        "                                                                                    'WV', 'AR', 'WA', 'MS', 'NM',\n",
        "                                                                                    'ME', 'NE', 'CO', 'KS', 'NJ',\n",
        "                                                                                    'MO', 'AL', 'IA', 'KY', 'VA',\n",
        "                                                                                    'NC', 'MD','TN', 'OK', 'SC',\n",
        "                                                                                    'GA', 'IN', 'NV', 'MI', 'NY',\n",
        "                                                                                    'IL', 'PA', 'OH', 'CA', 'TX'])\n",
        "print(dem_confounding_gammas_model.summary())"
      ],
      "execution_count": 26,
      "outputs": [
        {
          "output_type": "stream",
          "name": "stdout",
          "text": [
            "                            OLS Regression Results                            \n",
            "==============================================================================\n",
            "Dep. Variable:         Primary Status   R-squared:                       0.158\n",
            "Model:                            OLS   Adj. R-squared:                  0.117\n",
            "Method:                 Least Squares   F-statistic:                     3.911\n",
            "Date:                Tue, 24 Oct 2023   Prob (F-statistic):           3.58e-13\n",
            "Time:                        03:44:01   Log-Likelihood:                -467.18\n",
            "No. Observations:                 811   AIC:                             1010.\n",
            "Df Residuals:                     773   BIC:                             1189.\n",
            "Df Model:                          37                                         \n",
            "Covariance Type:            nonrobust                                         \n",
            "==================================================================================\n",
            "                     coef    std err          t      P>|t|      [0.025      0.975]\n",
            "----------------------------------------------------------------------------------\n",
            "Party Support?     0.7197      0.075      9.640      0.000       0.573       0.866\n",
            "ND                 1.0000      0.441      2.268      0.024       0.134       1.866\n",
            "AZ                 0.5000      0.312      1.604      0.109      -0.112       1.112\n",
            "SD                 1.0000      0.312      3.207      0.001       0.388       1.612\n",
            "MT                 0.1667      0.180      0.926      0.355      -0.187       0.520\n",
            "UT                 0.7134      0.180      3.954      0.000       0.359       1.068\n",
            "OR                 0.1429      0.167      0.857      0.392      -0.184       0.470\n",
            "ID                 0.3750      0.156      2.406      0.016       0.069       0.681\n",
            "WV                 0.3333      0.147      2.268      0.024       0.045       0.622\n",
            "AR                 0.4756      0.147      3.231      0.001       0.187       0.765\n",
            "WA                 0.3280      0.140      2.349      0.019       0.054       0.602\n",
            "MS                 0.5000      0.139      3.586      0.000       0.226       0.774\n",
            "NM                 0.2073      0.133      1.557      0.120      -0.054       0.469\n",
            "ME                 0.2727      0.133      2.051      0.041       0.012       0.534\n",
            "NE                 0.3567      0.127      2.799      0.005       0.107       0.607\n",
            "CO                 0.3772      0.118      3.197      0.001       0.146       0.609\n",
            "KS                 0.3333      0.114      2.928      0.004       0.110       0.557\n",
            "NJ                 0.1414      0.116      1.224      0.222      -0.085       0.368\n",
            "MO                 0.3750      0.110      3.402      0.001       0.159       0.591\n",
            "AL                 0.4375      0.110      3.969      0.000       0.221       0.654\n",
            "IA                 0.1600      0.111      1.447      0.148      -0.057       0.377\n",
            "KY                 0.2941      0.107      2.750      0.006       0.084       0.504\n",
            "VA                 0.3140      0.099      3.183      0.002       0.120       0.508\n",
            "NC                 0.3780      0.099      3.823      0.000       0.184       0.572\n",
            "MD                 0.1364      0.094      1.451      0.147      -0.048       0.321\n",
            "TN                 0.4091      0.094      4.352      0.000       0.225       0.594\n",
            "OK                 0.4348      0.092      4.729      0.000       0.254       0.615\n",
            "SC                 0.4348      0.092      4.729      0.000       0.254       0.615\n",
            "GA                 0.4615      0.086      5.337      0.000       0.292       0.631\n",
            "IN                 0.2333      0.081      2.899      0.004       0.075       0.391\n",
            "NV                 0.0916      0.080      1.152      0.250      -0.064       0.248\n",
            "MI                 0.3049      0.073      4.204      0.000       0.163       0.447\n",
            "NY                 0.2063      0.072      2.875      0.004       0.065       0.347\n",
            "IL                 0.1570      0.071      2.210      0.027       0.018       0.296\n",
            "PA                 0.2856      0.067      4.246      0.000       0.154       0.418\n",
            "OH                 0.2519      0.064      3.906      0.000       0.125       0.379\n",
            "CA                 0.1318      0.054      2.440      0.015       0.026       0.238\n",
            "TX                 0.3629      0.042      8.589      0.000       0.280       0.446\n",
            "==============================================================================\n",
            "Omnibus:                      186.889   Durbin-Watson:                   2.337\n",
            "Prob(Omnibus):                  0.000   Jarque-Bera (JB):              112.382\n",
            "Skew:                           0.785   Prob(JB):                     3.95e-25\n",
            "Kurtosis:                       2.071   Cond. No.                         10.4\n",
            "==============================================================================\n",
            "\n",
            "Notes:\n",
            "[1] Standard Errors assume that the covariance matrix of the errors is correctly specified.\n"
          ]
        }
      ]
    },
    {
      "cell_type": "markdown",
      "metadata": {
        "tags": [],
        "cell_id": "306e8d1244774eedad5fae716c36d522",
        "deepnote_app_coordinates": {
          "h": 5,
          "w": 12,
          "x": 0,
          "y": 217
        },
        "deepnote_cell_type": "markdown",
        "id": "9ydaTGSkv07K"
      },
      "source": [
        "#### Model 4: Understanding the Effect of Being From a Particular State on Republican Candidate Primary Status"
      ]
    },
    {
      "cell_type": "code",
      "metadata": {
        "tags": [],
        "cell_id": "5a5ea405347e4986a123525e366cfb89",
        "source_hash": null,
        "execution_start": 1673502002212,
        "execution_millis": 200,
        "deepnote_app_coordinates": {
          "h": 5,
          "w": 12,
          "x": 0,
          "y": 223
        },
        "deepnote_to_be_reexecuted": false,
        "deepnote_cell_type": "code",
        "id": "xIe3JKUxv07K",
        "outputId": "83f7d15d-975a-4a93-b1ae-33598c7feb25",
        "colab": {
          "base_uri": "https://localhost:8080/"
        }
      },
      "source": [
        "rep_confounding_gammas_model = fit_OLS_model(rep_cleaned_joined, 'Primary Status', [\"Rep Party Support?\", 'IA',\n",
        "                                                                                    'UT', 'KY', 'MT', 'ME', 'SD',\n",
        "                                                                                    'NC', 'DE', 'MS', 'ND', 'VT',\n",
        "                                                                                    'WY','CO', 'KS', 'AK', 'RI',\n",
        "                                                                                    'NM', 'VA', 'MA', 'GA', 'NH',\n",
        "                                                                                    'WV', 'NY', 'SC','ID', 'HI',\n",
        "                                                                                    'WI', 'CT', 'MI', 'OK', 'MO',\n",
        "                                                                                    'NJ', 'IL', 'OR', 'MN', 'WA',\n",
        "                                                                                    'TN', 'NV', 'IN', 'PA', 'AZ',\n",
        "                                                                                    'MD', 'OH', 'FL', 'TX', 'CA'])\n",
        "print(rep_confounding_gammas_model.summary())"
      ],
      "execution_count": 27,
      "outputs": [
        {
          "output_type": "stream",
          "name": "stdout",
          "text": [
            "                            OLS Regression Results                            \n",
            "==============================================================================\n",
            "Dep. Variable:         Primary Status   R-squared:                       0.135\n",
            "Model:                            OLS   Adj. R-squared:                  0.081\n",
            "Method:                 Least Squares   F-statistic:                     2.470\n",
            "Date:                Tue, 24 Oct 2023   Prob (F-statistic):           5.46e-07\n",
            "Time:                        03:44:04   Log-Likelihood:                -457.64\n",
            "No. Observations:                 772   AIC:                             1009.\n",
            "Df Residuals:                     725   BIC:                             1228.\n",
            "Df Model:                          46                                         \n",
            "Covariance Type:            nonrobust                                         \n",
            "======================================================================================\n",
            "                         coef    std err          t      P>|t|      [0.025      0.975]\n",
            "--------------------------------------------------------------------------------------\n",
            "Rep Party Support?     0.2813      0.064      4.417      0.000       0.156       0.406\n",
            "IA                     1.0000      0.452      2.214      0.027       0.113       1.887\n",
            "UT                     0.5000      0.319      1.565      0.118      -0.127       1.127\n",
            "KY                     0.2396      0.262      0.916      0.360      -0.274       0.753\n",
            "MT                     0.2500      0.226      1.107      0.269      -0.193       0.693\n",
            "ME                     0.4000      0.202      1.980      0.048       0.003       0.797\n",
            "SD                     0.2875      0.204      1.412      0.158      -0.112       0.687\n",
            "NC                     0.6000      0.202      2.970      0.003       0.203       0.997\n",
            "DE                     0.4000      0.202      1.980      0.048       0.003       0.797\n",
            "MS                     0.3333      0.184      1.808      0.071      -0.029       0.695\n",
            "ND                     0.3333      0.184      1.808      0.071      -0.029       0.695\n",
            "VT                     0.3333      0.184      1.808      0.071      -0.029       0.695\n",
            "WY                     0.1667      0.184      0.904      0.366      -0.195       0.529\n",
            "CO                     0.5714      0.171      3.347      0.001       0.236       0.907\n",
            "KS                     0.0223      0.173      0.129      0.898      -0.317       0.362\n",
            "AK                     0.1429      0.171      0.837      0.403      -0.192       0.478\n",
            "RI                     0.5000      0.160      3.131      0.002       0.186       0.814\n",
            "NM                     0.5547      0.160      3.456      0.001       0.240       0.870\n",
            "VA                     0.6667      0.151      4.428      0.000       0.371       0.962\n",
            "MA                     0.5437      0.143      3.791      0.000       0.262       0.825\n",
            "GA                     0.5000      0.143      3.500      0.000       0.220       0.780\n",
            "NH                     0.0729      0.132      0.552      0.581      -0.186       0.332\n",
            "WV                     0.1538      0.125      1.228      0.220      -0.092       0.400\n",
            "NY                     0.9397      0.121      7.735      0.000       0.701       1.178\n",
            "SC                     0.2143      0.121      1.775      0.076      -0.023       0.451\n",
            "ID                     0.1429      0.121      1.183      0.237      -0.094       0.380\n",
            "HI                     0.2857      0.121      2.367      0.018       0.049       0.523\n",
            "WI                     0.2455      0.121      2.028      0.043       0.008       0.483\n",
            "CT                     0.5000      0.121      4.142      0.000       0.263       0.737\n",
            "MI                     0.3729      0.119      3.145      0.002       0.140       0.606\n",
            "OK                     0.2667      0.117      2.286      0.023       0.038       0.496\n",
            "MO                     0.1765      0.110      1.611      0.108      -0.039       0.392\n",
            "NJ                     0.4523      0.105      4.308      0.000       0.246       0.658\n",
            "IL                     0.5078      0.101      5.005      0.000       0.309       0.707\n",
            "OR                     0.1905      0.099      1.932      0.054      -0.003       0.384\n",
            "MN                     0.3253      0.097      3.364      0.001       0.135       0.515\n",
            "WA                     0.2599      0.096      2.698      0.007       0.071       0.449\n",
            "TN                     0.2917      0.092      3.163      0.002       0.111       0.473\n",
            "NV                     0.1487      0.090      1.646      0.100      -0.029       0.326\n",
            "IN                     0.1852      0.087      2.130      0.033       0.015       0.356\n",
            "PA                     0.3984      0.086      4.653      0.000       0.230       0.567\n",
            "AZ                     0.1640      0.086      1.905      0.057      -0.005       0.333\n",
            "MD                     0.2240      0.082      2.715      0.007       0.062       0.386\n",
            "OH                     0.2280      0.074      3.067      0.002       0.082       0.374\n",
            "FL                     0.2472      0.068      3.616      0.000       0.113       0.381\n",
            "TX                     0.2836      0.055      5.139      0.000       0.175       0.392\n",
            "CA                     0.3525      0.051      6.965      0.000       0.253       0.452\n",
            "==============================================================================\n",
            "Omnibus:                      215.740   Durbin-Watson:                   1.846\n",
            "Prob(Omnibus):                  0.000   Jarque-Bera (JB):               94.134\n",
            "Skew:                           0.693   Prob(JB):                     3.62e-21\n",
            "Kurtosis:                       1.997   Cond. No.                         9.36\n",
            "==============================================================================\n",
            "\n",
            "Notes:\n",
            "[1] Standard Errors assume that the covariance matrix of the errors is correctly specified.\n"
          ]
        }
      ]
    },
    {
      "cell_type": "markdown",
      "metadata": {
        "tags": [],
        "cell_id": "81ca2daec4164116826c27f8bc7b2eda",
        "deepnote_app_coordinates": {
          "h": 5,
          "w": 12,
          "x": 0,
          "y": 229
        },
        "deepnote_cell_type": "markdown",
        "id": "cAf5dL09v07K"
      },
      "source": [
        "#### Model 5: OLS Model for Democratic Endorsements Confounding Variables"
      ]
    },
    {
      "cell_type": "code",
      "metadata": {
        "tags": [],
        "cell_id": "0d99c2734c2246c4bf6cd99264cf6f2c",
        "source_hash": null,
        "execution_start": 1673502002457,
        "execution_millis": 3,
        "deepnote_app_coordinates": {
          "h": 5,
          "w": 12,
          "x": 0,
          "y": 235
        },
        "deepnote_to_be_reexecuted": false,
        "deepnote_cell_type": "code",
        "id": "JFKt4Ra8v07K",
        "outputId": "2d967834-0941-43e2-fe02-7c1082ce0d88",
        "colab": {
          "base_uri": "https://localhost:8080/"
        }
      },
      "source": [
        "dem_endorsements_gammas_model = fit_OLS_model(dem_cleaned, 'Primary Status', [\"Party Support?\",\n",
        "\"Emily Endorsed?\", \"Guns Sense Candidate?\", \"Our Revolution Endorsed?\",\"Biden Endorsed?\"])\n",
        "print(dem_endorsements_gammas_model.summary())"
      ],
      "execution_count": 28,
      "outputs": [
        {
          "output_type": "stream",
          "name": "stdout",
          "text": [
            "                                 OLS Regression Results                                \n",
            "=======================================================================================\n",
            "Dep. Variable:         Primary Status   R-squared (uncentered):                 -20.038\n",
            "Model:                            OLS   Adj. R-squared (uncentered):            -20.169\n",
            "Method:                 Least Squares   F-statistic:                             -153.5\n",
            "Date:                Tue, 24 Oct 2023   Prob (F-statistic):                        1.00\n",
            "Time:                        03:44:06   Log-Likelihood:                         -560.88\n",
            "No. Observations:                 811   AIC:                                      1132.\n",
            "Df Residuals:                     806   BIC:                                      1155.\n",
            "Df Model:                           5                                                  \n",
            "Covariance Type:            nonrobust                                                  \n",
            "============================================================================================\n",
            "                               coef    std err          t      P>|t|      [0.025      0.975]\n",
            "--------------------------------------------------------------------------------------------\n",
            "Party Support?               0.5846      0.091      6.425      0.000       0.406       0.763\n",
            "Emily Endorsed?              0.3653      0.073      5.007      0.000       0.222       0.509\n",
            "Guns Sense Candidate?        0.3178      0.037      8.528      0.000       0.245       0.391\n",
            "Our Revolution Endorsed?     0.2525      0.054      4.639      0.000       0.146       0.359\n",
            "Biden Endorsed?              0.2861      0.168      1.701      0.089      -0.044       0.616\n",
            "==============================================================================\n",
            "Omnibus:                       62.882   Durbin-Watson:                   1.758\n",
            "Prob(Omnibus):                  0.000   Jarque-Bera (JB):               65.599\n",
            "Skew:                           0.653   Prob(JB):                     5.69e-15\n",
            "Kurtosis:                       2.514   Cond. No.                         5.13\n",
            "==============================================================================\n",
            "\n",
            "Notes:\n",
            "[1] R² is computed without centering (uncentered) since the model does not contain a constant.\n",
            "[2] Standard Errors assume that the covariance matrix of the errors is correctly specified.\n"
          ]
        }
      ]
    },
    {
      "cell_type": "markdown",
      "metadata": {
        "tags": [],
        "cell_id": "c5d8f46f347a49afad803121d723fe76",
        "deepnote_app_coordinates": {
          "h": 5,
          "w": 12,
          "x": 0,
          "y": 241
        },
        "deepnote_cell_type": "markdown",
        "id": "_WhpJ_NQv07L"
      },
      "source": [
        "#### Model 6: OLS Model for Democratic Endorsements Confounding Variables (Demographic)"
      ]
    },
    {
      "cell_type": "code",
      "metadata": {
        "tags": [],
        "cell_id": "4ca4e1eb924148df8c6a768acd4c8c09",
        "source_hash": null,
        "execution_start": 1673502002501,
        "execution_millis": 7,
        "deepnote_app_coordinates": {
          "h": 5,
          "w": 12,
          "x": 0,
          "y": 247
        },
        "deepnote_to_be_reexecuted": false,
        "deepnote_cell_type": "code",
        "id": "UGwnEzJdv07L",
        "outputId": "4bff562f-020c-4c07-fc86-4a7d94444c1e",
        "colab": {
          "base_uri": "https://localhost:8080/"
        }
      },
      "source": [
        "dem_endorsements_gammas_model = fit_OLS_model(dem_cleaned, 'Primary Status', [\"Party Support?\",\"Race\",\n",
        "\"LGBTQ?\", \"Veteran?\", \"Self-Funder?\",\"Elected Official?\", \"STEM?\"])\n",
        "print(dem_endorsements_gammas_model.summary())"
      ],
      "execution_count": 29,
      "outputs": [
        {
          "output_type": "stream",
          "name": "stdout",
          "text": [
            "                                 OLS Regression Results                                \n",
            "=======================================================================================\n",
            "Dep. Variable:         Primary Status   R-squared (uncentered):                 -18.808\n",
            "Model:                            OLS   Adj. R-squared (uncentered):            -18.981\n",
            "Method:                 Least Squares   F-statistic:                             -109.1\n",
            "Date:                Tue, 24 Oct 2023   Prob (F-statistic):                        1.00\n",
            "Time:                        03:44:08   Log-Likelihood:                         -536.45\n",
            "No. Observations:                 811   AIC:                                      1087.\n",
            "Df Residuals:                     804   BIC:                                      1120.\n",
            "Df Model:                           7                                                  \n",
            "Covariance Type:            nonrobust                                                  \n",
            "=====================================================================================\n",
            "                        coef    std err          t      P>|t|      [0.025      0.975]\n",
            "-------------------------------------------------------------------------------------\n",
            "Party Support?        0.7172      0.077      9.258      0.000       0.565       0.869\n",
            "Race                  0.2587      0.026      9.992      0.000       0.208       0.310\n",
            "LGBTQ?                0.0412      0.079      0.523      0.601      -0.113       0.196\n",
            "Veteran?              0.0591      0.045      1.318      0.188      -0.029       0.147\n",
            "Self-Funder?          0.0650      0.074      0.883      0.378      -0.079       0.209\n",
            "Elected Official?     0.2496      0.043      5.830      0.000       0.166       0.334\n",
            "STEM?                 0.0259      0.042      0.617      0.538      -0.057       0.109\n",
            "==============================================================================\n",
            "Omnibus:                      139.001   Durbin-Watson:                   2.069\n",
            "Prob(Omnibus):                  0.000   Jarque-Bera (JB):              100.127\n",
            "Skew:                           0.753   Prob(JB):                     1.81e-22\n",
            "Kurtosis:                       2.166   Cond. No.                         3.80\n",
            "==============================================================================\n",
            "\n",
            "Notes:\n",
            "[1] R² is computed without centering (uncentered) since the model does not contain a constant.\n",
            "[2] Standard Errors assume that the covariance matrix of the errors is correctly specified.\n"
          ]
        }
      ]
    },
    {
      "cell_type": "markdown",
      "metadata": {
        "tags": [],
        "cell_id": "9f98f2e0495d4591b177652fcb555e51",
        "deepnote_app_coordinates": {
          "h": 5,
          "w": 12,
          "x": 0,
          "y": 253
        },
        "deepnote_cell_type": "markdown",
        "id": "ZK69-tT4v07L"
      },
      "source": [
        "#### Model 7: OLS Model for Republican Endorsements Confounding Variables"
      ]
    },
    {
      "cell_type": "code",
      "metadata": {
        "tags": [],
        "cell_id": "124a796beb964289ad8d095c1867d8dd",
        "source_hash": null,
        "execution_start": 1673502002509,
        "execution_millis": 17,
        "deepnote_app_coordinates": {
          "h": 5,
          "w": 12,
          "x": 0,
          "y": 259
        },
        "deepnote_to_be_reexecuted": false,
        "deepnote_cell_type": "code",
        "id": "B9_9fH-vv07L",
        "outputId": "beb85a04-7b47-49a4-9efa-47c9fa3339cd",
        "colab": {
          "base_uri": "https://localhost:8080/"
        }
      },
      "source": [
        "rep_endorsements_gammas_model = fit_OLS_model(rep_cleaned, 'Primary Status', [\"Rep Party Support?\",\n",
        "\"Right to Life Endorsed?\", \"NRA Endorsed?\", \"Trump Endorsed?\",\"Club for Growth Endorsed?\"])\n",
        "print(rep_endorsements_gammas_model.summary())"
      ],
      "execution_count": 30,
      "outputs": [
        {
          "output_type": "stream",
          "name": "stdout",
          "text": [
            "                                 OLS Regression Results                                \n",
            "=======================================================================================\n",
            "Dep. Variable:         Primary Status   R-squared (uncentered):                    -inf\n",
            "Model:                            OLS   Adj. R-squared (uncentered):               -inf\n",
            "Method:                 Least Squares   F-statistic:                             -153.4\n",
            "Date:                Tue, 24 Oct 2023   Prob (F-statistic):                        1.00\n",
            "Time:                        03:44:09   Log-Likelihood:                         -590.01\n",
            "No. Observations:                 772   AIC:                                      1190.\n",
            "Df Residuals:                     767   BIC:                                      1213.\n",
            "Df Model:                           5                                                  \n",
            "Covariance Type:            nonrobust                                                  \n",
            "=============================================================================================\n",
            "                                coef    std err          t      P>|t|      [0.025      0.975]\n",
            "---------------------------------------------------------------------------------------------\n",
            "Rep Party Support?            0.5207      0.067      7.752      0.000       0.389       0.652\n",
            "Right to Life Endorsed?       0.2550      0.064      3.980      0.000       0.129       0.381\n",
            "NRA Endorsed?                 0.3965      0.142      2.794      0.005       0.118       0.675\n",
            "Trump Endorsed?               0.5990      0.132      4.522      0.000       0.339       0.859\n",
            "Club for Growth Endorsed?     0.4028      0.117      3.453      0.001       0.174       0.632\n",
            "==============================================================================\n",
            "Omnibus:                       62.200   Durbin-Watson:                   1.253\n",
            "Prob(Omnibus):                  0.000   Jarque-Bera (JB):               58.158\n",
            "Skew:                           0.608   Prob(JB):                     2.35e-13\n",
            "Kurtosis:                       2.427   Cond. No.                         2.56\n",
            "==============================================================================\n",
            "\n",
            "Notes:\n",
            "[1] R² is computed without centering (uncentered) since the model does not contain a constant.\n",
            "[2] Standard Errors assume that the covariance matrix of the errors is correctly specified.\n"
          ]
        },
        {
          "output_type": "stream",
          "name": "stderr",
          "text": [
            "/usr/local/lib/python3.10/dist-packages/statsmodels/regression/linear_model.py:1783: RuntimeWarning: divide by zero encountered in double_scalars\n",
            "  return 1 - self.ssr/self.uncentered_tss\n"
          ]
        }
      ]
    },
    {
      "cell_type": "markdown",
      "metadata": {
        "tags": [],
        "cell_id": "48f111954b7f4d73a37edffee232ca33",
        "is_collapsed": false,
        "formattedRanges": [],
        "deepnote_app_coordinates": {
          "h": 5,
          "w": 12,
          "x": 0,
          "y": 265
        },
        "deepnote_cell_type": "text-cell-h2",
        "id": "9mpnEL6cv07L"
      },
      "source": [
        "## IV. Hypothesis Testing"
      ]
    },
    {
      "cell_type": "markdown",
      "metadata": {
        "tags": [],
        "cell_id": "99ed8b343f0a4a51883b5db23cb6bb75",
        "is_collapsed": false,
        "formattedRanges": [],
        "deepnote_app_coordinates": {
          "h": 5,
          "w": 12,
          "x": 0,
          "y": 271
        },
        "deepnote_cell_type": "text-cell-h3",
        "id": "2m_9o419v07M"
      },
      "source": [
        "### a. Proportion Calculations"
      ]
    },
    {
      "cell_type": "markdown",
      "metadata": {
        "cell_id": "04967e56bd104259957ff9fa9217c9f9",
        "deepnote_app_coordinates": {
          "h": 5,
          "w": 12,
          "x": 0,
          "y": 277
        },
        "deepnote_cell_type": "markdown",
        "id": "q3ARirtEv07M"
      },
      "source": [
        "#### Party Support (Republican Party)"
      ]
    },
    {
      "cell_type": "code",
      "metadata": {
        "cell_id": "2be6079f597546c9b02e0e8251f0eb01",
        "source_hash": null,
        "execution_start": 1673502002527,
        "execution_millis": 16,
        "deepnote_app_coordinates": {
          "h": 5,
          "w": 12,
          "x": 0,
          "y": 283
        },
        "deepnote_to_be_reexecuted": false,
        "deepnote_cell_type": "code",
        "id": "-NiTJo7lv07M",
        "outputId": "1d344518-4a2d-4b7c-e561-3bf22cd0de85",
        "colab": {
          "base_uri": "https://localhost:8080/"
        }
      },
      "source": [
        "rep_treatment_num = len(rep_cleaned[(rep_cleaned['Rep Party Support?']==1) & (rep_cleaned['Primary Status']==1)])\n",
        "rep_treatment_den = len(rep_cleaned[rep_cleaned['Rep Party Support?']==1])\n",
        "rep_control_num = len(rep_cleaned[(rep_cleaned['Rep Party Support?']==0) & (rep_cleaned['Primary Status']==1)])\n",
        "rep_control_den = len(rep_cleaned[rep_cleaned['Rep Party Support?']==0])\n",
        "\n",
        "[rep_treatment_num, rep_treatment_den, rep_control_num, rep_control_den]"
      ],
      "execution_count": 31,
      "outputs": [
        {
          "output_type": "execute_result",
          "data": {
            "text/plain": [
              "[39, 63, 217, 709]"
            ]
          },
          "metadata": {},
          "execution_count": 31
        }
      ]
    },
    {
      "cell_type": "markdown",
      "metadata": {
        "cell_id": "77cdd1b9a0a741b1bd205d7338ccd6a3",
        "deepnote_app_coordinates": {
          "h": 5,
          "w": 12,
          "x": 0,
          "y": 289
        },
        "deepnote_cell_type": "markdown",
        "id": "4YKf4OKLv07M"
      },
      "source": [
        "#### Party Support (Democratic Party)"
      ]
    },
    {
      "cell_type": "code",
      "metadata": {
        "cell_id": "122632f31a144a579b6094ed6a1400df",
        "source_hash": null,
        "execution_start": 1673502002554,
        "execution_millis": 5,
        "deepnote_app_coordinates": {
          "h": 5,
          "w": 12,
          "x": 0,
          "y": 295
        },
        "deepnote_to_be_reexecuted": false,
        "deepnote_cell_type": "code",
        "id": "2LKR221iv07M",
        "outputId": "cccfaff8-9414-47c4-f557-e97ad11aaa7f",
        "colab": {
          "base_uri": "https://localhost:8080/"
        }
      },
      "source": [
        "dem_treatment_num = len(dem_cleaned[(dem_cleaned['Party Support?']==1) & (dem_cleaned['Primary Status']==1)])\n",
        "dem_treatment_den = len(dem_cleaned[dem_cleaned['Party Support?']==1])\n",
        "dem_control_num = len(dem_cleaned[(dem_cleaned['Party Support?']==0) & (dem_cleaned['Primary Status']==1)])\n",
        "dem_control_den = len(dem_cleaned[dem_cleaned['Party Support?']==0])\n",
        "\n",
        "[dem_treatment_num, dem_treatment_den, dem_control_num, dem_control_den]"
      ],
      "execution_count": 32,
      "outputs": [
        {
          "output_type": "execute_result",
          "data": {
            "text/plain": [
              "[37, 39, 228, 772]"
            ]
          },
          "metadata": {},
          "execution_count": 32
        }
      ]
    },
    {
      "cell_type": "markdown",
      "metadata": {
        "cell_id": "9ca48156825047f39e7374e5ef8facce",
        "deepnote_app_coordinates": {
          "h": 5,
          "w": 12,
          "x": 0,
          "y": 301
        },
        "deepnote_cell_type": "markdown",
        "id": "yfe-uFrxv07M"
      },
      "source": [
        "#### Emily's List & Right to Life Endorsements"
      ]
    },
    {
      "cell_type": "code",
      "metadata": {
        "cell_id": "0a74e44a34c8418691ec84105b58a18f",
        "source_hash": null,
        "execution_start": 1673502002564,
        "execution_millis": 33,
        "deepnote_app_coordinates": {
          "h": 5,
          "w": 12,
          "x": 0,
          "y": 307
        },
        "deepnote_to_be_reexecuted": false,
        "deepnote_cell_type": "code",
        "id": "os_n1A6lv07M",
        "outputId": "fbd80662-8488-4f40-ed73-d6546ca2c093",
        "colab": {
          "base_uri": "https://localhost:8080/"
        }
      },
      "source": [
        "# Emily's List\n",
        "emilylist_num = len(dem_cleaned[(dem_cleaned['Emily Endorsed?']==1) & (dem_cleaned['Primary Status']==1)])\n",
        "emilylist_den = len(dem_cleaned[dem_cleaned['Emily Endorsed?']==1])\n",
        "\n",
        "emilylist_prop = emilylist_num / emilylist_den\n",
        "\n",
        "#Right to Life\n",
        "righttolife_num = len(rep_cleaned[(rep_cleaned['Right to Life Endorsed?']==1) & (rep_cleaned['Primary Status']==1)])\n",
        "righttolife_den = len(rep_cleaned[rep_cleaned['Right to Life Endorsed?']==1])\n",
        "\n",
        "righttolife_prop = righttolife_num / righttolife_den\n",
        "\n",
        "# Difference\n",
        "diff_prop_1  = emilylist_prop - righttolife_prop\n",
        "\n",
        "print(diff_prop_1)\n",
        "print(emilylist_num, emilylist_den, righttolife_num, righttolife_den)"
      ],
      "execution_count": 33,
      "outputs": [
        {
          "output_type": "stream",
          "name": "stdout",
          "text": [
            "0.2812812812812812\n",
            "40 54 34 74\n"
          ]
        }
      ]
    },
    {
      "cell_type": "markdown",
      "metadata": {
        "cell_id": "06cff558562c477babdddbcb436a7447",
        "deepnote_app_coordinates": {
          "h": 5,
          "w": 12,
          "x": 0,
          "y": 313
        },
        "deepnote_cell_type": "markdown",
        "id": "8I-hVT7vv07M"
      },
      "source": [
        "#### Our Revolution & Club for Growth Endorsements"
      ]
    },
    {
      "cell_type": "code",
      "metadata": {
        "cell_id": "5b4097b729af4c9aa761b27b22f5a966",
        "source_hash": null,
        "execution_start": 1673502002623,
        "execution_millis": 3,
        "deepnote_app_coordinates": {
          "h": 5,
          "w": 12,
          "x": 0,
          "y": 319
        },
        "deepnote_to_be_reexecuted": false,
        "deepnote_cell_type": "code",
        "id": "ZbvIxM8av07N",
        "outputId": "005c2466-836a-4afc-ccfe-304b366e36ed",
        "colab": {
          "base_uri": "https://localhost:8080/"
        }
      },
      "source": [
        "#Our Revolution\n",
        "our_rev_endorsed_num = len(dem_cleaned[(dem_cleaned['Our Revolution Endorsed?']==1) & (dem_cleaned['Primary Status']==1)])\n",
        "our_rev_endorsed_den = len(dem_cleaned[dem_cleaned['Our Revolution Endorsed?']==1])\n",
        "our_rev_endorsed_prop = our_rev_endorsed_num / our_rev_endorsed_den\n",
        "\n",
        "rep_cleaned['Club for Growth Endorsed?']\n",
        "\n",
        "#Club for Growth\n",
        "club_growth_num = len(rep_cleaned[(rep_cleaned['Club for Growth Endorsed?']==1) & (rep_cleaned['Primary Status']==1)])\n",
        "club_growth_den = len(rep_cleaned[rep_cleaned['Club for Growth Endorsed?']==1])\n",
        "club_growth_prop = club_growth_num / club_growth_den\n",
        "\n",
        "# Difference\n",
        "diff_prop_2 = club_growth_prop - our_rev_endorsed_prop\n",
        "\n",
        "print(diff_prop_2)\n",
        "print(our_rev_endorsed_num, our_rev_endorsed_den,club_growth_num, club_growth_den)"
      ],
      "execution_count": 34,
      "outputs": [
        {
          "output_type": "stream",
          "name": "stdout",
          "text": [
            "0.2666666666666666\n",
            "34 85 14 21\n"
          ]
        }
      ]
    },
    {
      "cell_type": "markdown",
      "metadata": {
        "cell_id": "432df6b2457f4d68beac1e16dcb75e20",
        "deepnote_app_coordinates": {
          "h": 5,
          "w": 12,
          "x": 0,
          "y": 325
        },
        "deepnote_cell_type": "markdown",
        "id": "d3yCkQjdv07N"
      },
      "source": [
        "#### Gun Sense & NRA Endorsements"
      ]
    },
    {
      "cell_type": "code",
      "metadata": {
        "cell_id": "79ad2df9908146979595695c784d14e2",
        "source_hash": null,
        "execution_start": 1673502002624,
        "execution_millis": 3,
        "deepnote_app_coordinates": {
          "h": 5,
          "w": 12,
          "x": 0,
          "y": 331
        },
        "deepnote_to_be_reexecuted": false,
        "deepnote_cell_type": "code",
        "id": "N17mQHSSv07N",
        "outputId": "61d20b5b-ea00-4c98-8441-a7336546ab6d",
        "colab": {
          "base_uri": "https://localhost:8080/"
        }
      },
      "source": [
        "#Gun Sense\n",
        "gun_sense_num = len(dem_cleaned[(dem_cleaned['Guns Sense Candidate?']==1) & (dem_cleaned['Primary Status']==1)])\n",
        "gun_sense_den = len(dem_cleaned[dem_cleaned['Guns Sense Candidate?']==1])\n",
        "gun_sense_prop = gun_sense_num / gun_sense_den\n",
        "\n",
        "#NRA\n",
        "nra_num = len(rep_cleaned[(rep_cleaned['NRA Endorsed?']==1) & (rep_cleaned['Primary Status']==1)])\n",
        "nra_den = len(rep_cleaned[rep_cleaned['NRA Endorsed?']==1])\n",
        "nra_prop = nra_num / nra_den\n",
        "\n",
        "# Difference\n",
        "diff_prop_3  = gun_sense_prop - nra_prop\n",
        "\n",
        "print(diff_prop_3)\n",
        "print(gun_sense_num, gun_sense_den, nra_num, nra_den)"
      ],
      "execution_count": 35,
      "outputs": [
        {
          "output_type": "stream",
          "name": "stdout",
          "text": [
            "-0.25832716506291636\n",
            "88 193 10 14\n"
          ]
        }
      ]
    },
    {
      "cell_type": "markdown",
      "metadata": {
        "cell_id": "8b642f3ad3e94c61ad9d1c43ad07ec04",
        "deepnote_app_coordinates": {
          "h": 5,
          "w": 12,
          "x": 0,
          "y": 337
        },
        "deepnote_cell_type": "markdown",
        "id": "MJDiGduwv07N"
      },
      "source": [
        "#### Biden & Trump Endorsements"
      ]
    },
    {
      "cell_type": "code",
      "metadata": {
        "cell_id": "e3ae23f8da7f421eabdf9da5231649c3",
        "source_hash": null,
        "execution_start": 1673502002625,
        "execution_millis": 5,
        "deepnote_app_coordinates": {
          "h": 5,
          "w": 12,
          "x": 0,
          "y": 343
        },
        "deepnote_to_be_reexecuted": false,
        "deepnote_cell_type": "code",
        "id": "FSlJq063v07N",
        "outputId": "f263665d-dd72-451a-ee0c-1100eef1350b",
        "colab": {
          "base_uri": "https://localhost:8080/"
        }
      },
      "source": [
        "#Biden\n",
        "biden_num = len(dem_cleaned[(dem_cleaned['Biden Endorsed?']==1) & (dem_cleaned['Primary Status']==1)])\n",
        "biden_den = len(dem_cleaned[dem_cleaned['Biden Endorsed?']==1])\n",
        "biden_prop = biden_num / biden_den\n",
        "\n",
        "#Trump\n",
        "trump_num = len(rep_cleaned[(rep_cleaned['Trump Endorsed?']==1) & (rep_cleaned['Primary Status']==1)])\n",
        "trump_den = len(rep_cleaned[rep_cleaned['Trump Endorsed?']==1])\n",
        "trump_prop = trump_num / trump_den\n",
        "\n",
        "# Difference\n",
        "diff_prop_4 = biden_prop - trump_prop\n",
        "\n",
        "print(diff_prop_4)\n",
        "print(biden_num, biden_den, trump_num, trump_den)"
      ],
      "execution_count": 36,
      "outputs": [
        {
          "output_type": "stream",
          "name": "stdout",
          "text": [
            "0.11764705882352944\n",
            "10 10 15 17\n"
          ]
        }
      ]
    },
    {
      "cell_type": "markdown",
      "metadata": {
        "tags": [],
        "cell_id": "3e247bcd02f4427d95152ffc7a2b9fe4",
        "is_collapsed": false,
        "formattedRanges": [],
        "deepnote_app_coordinates": {
          "h": 5,
          "w": 12,
          "x": 0,
          "y": 349
        },
        "deepnote_cell_type": "text-cell-h3",
        "id": "ssSI0EZNv07N"
      },
      "source": [
        "### b. P-value Calculations"
      ]
    },
    {
      "cell_type": "markdown",
      "metadata": {
        "cell_id": "0b55dfacb5824a1d88a92b4e2139c1b5",
        "deepnote_app_coordinates": {
          "h": 5,
          "w": 12,
          "x": 0,
          "y": 355
        },
        "deepnote_cell_type": "markdown",
        "id": "tqGo_zJSv07N"
      },
      "source": [
        "#### Republican Data"
      ]
    },
    {
      "cell_type": "code",
      "metadata": {
        "cell_id": "db84699f77374d26acb3d5f2f6d9257c",
        "source_hash": null,
        "execution_start": 1673502002637,
        "execution_millis": 5,
        "deepnote_app_coordinates": {
          "h": 5,
          "w": 12,
          "x": 0,
          "y": 361
        },
        "deepnote_to_be_reexecuted": false,
        "deepnote_cell_type": "code",
        "id": "DNAfxAaGv07N",
        "outputId": "1485da8f-eb6a-4bf5-f5e2-ff690599ed4d",
        "colab": {
          "base_uri": "https://localhost:8080/"
        }
      },
      "source": [
        "# a = treatment, b = control\n",
        "\n",
        "significance = 0.05\n",
        "\n",
        "sample_success_a, sample_size_a = (rep_treatment_num,rep_treatment_den)\n",
        "sample_success_b, sample_size_b = (rep_control_num,rep_control_den)\n",
        "\n",
        "successes = np.array([sample_success_a, sample_success_b])\n",
        "samples = np.array([sample_size_a, sample_size_b])\n",
        "\n",
        "stat, p_value = proportions_ztest(count=successes, nobs=samples,  alternative='two-sided')\n",
        "\n",
        "print('z_stat: %0.3f, p_value: %0.10f' % (stat, p_value))\n",
        "\n",
        "if p_value > significance:\n",
        "    print(\"Fail to reject the null hypothesis - we have nothing else to say\")\n",
        "else:\n",
        "    print(\"Reject the null hypothesis - suggest the alternative hypothesis is true\")"
      ],
      "execution_count": 39,
      "outputs": [
        {
          "output_type": "stream",
          "name": "stdout",
          "text": [
            "z_stat: 5.057, p_value: 0.0000004263\n",
            "Reject the null hypothesis - suggest the alternative hypothesis is true\n"
          ]
        }
      ]
    },
    {
      "cell_type": "markdown",
      "metadata": {
        "cell_id": "8de968105a7b42a6ba71077bbb7ec897",
        "deepnote_app_coordinates": {
          "h": 5,
          "w": 12,
          "x": 0,
          "y": 367
        },
        "deepnote_cell_type": "markdown",
        "id": "PyyJk6bJv07O"
      },
      "source": [
        "#### Democratic Data"
      ]
    },
    {
      "cell_type": "code",
      "metadata": {
        "cell_id": "a4a64c000eee40c289654da81b20a124",
        "source_hash": null,
        "execution_start": 1673502002689,
        "execution_millis": 1,
        "deepnote_app_coordinates": {
          "h": 5,
          "w": 12,
          "x": 0,
          "y": 373
        },
        "deepnote_to_be_reexecuted": false,
        "deepnote_cell_type": "code",
        "id": "6yZfSQ76v07O",
        "outputId": "c61b7679-624f-4b5b-c4a2-4aed0c0ac028",
        "colab": {
          "base_uri": "https://localhost:8080/"
        }
      },
      "source": [
        "# a = treatment, b = control\n",
        "\n",
        "significance = 0.05\n",
        "\n",
        "sample_success_a, sample_size_a = (dem_treatment_num,dem_treatment_den)\n",
        "sample_success_b, sample_size_b = (dem_control_num,dem_control_den)\n",
        "\n",
        "successes = np.array([sample_success_a, sample_success_b])\n",
        "samples = np.array([sample_size_a, sample_size_b])\n",
        "\n",
        "stat, p_value = proportions_ztest(count=successes, nobs=samples,  alternative='two-sided')\n",
        "\n",
        "print('z_stat: %0.3f, p_value: %0.20f' % (stat, p_value))\n",
        "\n",
        "if p_value > significance:\n",
        "    print(\"Fail to reject the null hypothesis - we have nothing else to say\")\n",
        "else:\n",
        "    print(\"Reject the null hypothesis - suggest the alternative hypothesis is true\")"
      ],
      "execution_count": 40,
      "outputs": [
        {
          "output_type": "stream",
          "name": "stdout",
          "text": [
            "z_stat: 8.488, p_value: 0.00000000000000002105\n",
            "Reject the null hypothesis - suggest the alternative hypothesis is true\n"
          ]
        }
      ]
    },
    {
      "cell_type": "markdown",
      "metadata": {
        "cell_id": "2f21c68181884103b052ef5caa5cdc70",
        "deepnote_app_coordinates": {
          "h": 5,
          "w": 12,
          "x": 0,
          "y": 379
        },
        "deepnote_cell_type": "markdown",
        "id": "1CL0Dr_Fv07O"
      },
      "source": [
        "#### Emily's List vs Right to Life Endorsements"
      ]
    },
    {
      "cell_type": "code",
      "metadata": {
        "cell_id": "837a7f4a20d84dd7a74627c0e2d3abec",
        "source_hash": null,
        "execution_start": 1673502002717,
        "execution_millis": 4,
        "deepnote_app_coordinates": {
          "h": 5,
          "w": 12,
          "x": 0,
          "y": 385
        },
        "deepnote_to_be_reexecuted": false,
        "deepnote_cell_type": "code",
        "id": "ENon8Qkqv07O",
        "outputId": "83dc8938-76cb-4f8d-be2d-08f90424bf39",
        "colab": {
          "base_uri": "https://localhost:8080/"
        }
      },
      "source": [
        "# a = Emily's List, b = Right to Life\n",
        "\n",
        "significance = 0.05\n",
        "\n",
        "sample_success_emily, sample_size_emily = (emilylist_num,emilylist_den)\n",
        "sample_success_life, sample_size_life = (righttolife_num,righttolife_den)\n",
        "\n",
        "successes = np.array([sample_success_emily, sample_success_life])\n",
        "samples = np.array([sample_size_emily, sample_size_life])\n",
        "\n",
        "stat, p_value = proportions_ztest(count=successes, nobs=samples,  alternative='larger')\n",
        "\n",
        "print('z_stat: %0.3f, p_value: %0.30f' % (stat, p_value))\n",
        "\n",
        "if p_value > significance:\n",
        "    print (\"Fail to reject the null hypothesis - we have nothing else to say\")\n",
        "else:\n",
        "    print(\"Reject the null hypothesis - suggest the alternative hypothesis is true\")"
      ],
      "execution_count": 41,
      "outputs": [
        {
          "output_type": "stream",
          "name": "stdout",
          "text": [
            "z_stat: 3.182, p_value: 0.000730465112809271601736205159\n",
            "Reject the null hypothesis - suggest the alternative hypothesis is true\n"
          ]
        }
      ]
    },
    {
      "cell_type": "markdown",
      "metadata": {
        "cell_id": "c436d7661ba54e7faaa1e9c23e6dacdf",
        "deepnote_app_coordinates": {
          "h": 5,
          "w": 12,
          "x": 0,
          "y": 391
        },
        "deepnote_cell_type": "markdown",
        "id": "Yn9lypATv07O"
      },
      "source": [
        "#### Our Revolution vs Club for Growth Endorsements"
      ]
    },
    {
      "cell_type": "code",
      "metadata": {
        "cell_id": "937ae8de80f840a98644f3da5b5779e5",
        "source_hash": null,
        "execution_start": 1673502002718,
        "execution_millis": 3,
        "deepnote_app_coordinates": {
          "h": 5,
          "w": 12,
          "x": 0,
          "y": 397
        },
        "deepnote_to_be_reexecuted": false,
        "deepnote_cell_type": "code",
        "id": "duPlFArrv07O",
        "outputId": "7e899f2b-d7ad-4aed-869a-ce18e705b55c",
        "colab": {
          "base_uri": "https://localhost:8080/"
        }
      },
      "source": [
        "# a = Our Revolution, b = Club for Growth\n",
        "\n",
        "significance = 0.05\n",
        "\n",
        "sample_success_our_rev, sample_size_our_rev = (our_rev_endorsed_num,our_rev_endorsed_den)\n",
        "sample_success_club_growth, sample_size_club_growth = (club_growth_num,club_growth_den)\n",
        "\n",
        "successes = np.array([sample_success_our_rev, sample_success_club_growth])\n",
        "samples = np.array([sample_size_our_rev, sample_size_club_growth])\n",
        "\n",
        "stat, p_value = proportions_ztest(count=successes, nobs=samples,  alternative='smaller')\n",
        "\n",
        "print('z_stat: %0.3f, p_value: %0.30f' % (stat, p_value))\n",
        "\n",
        "if p_value > significance:\n",
        "    print (\"Fail to reject the null hypothesis - we have nothing else to say\")\n",
        "else:\n",
        "    print(\"Reject the null hypothesis - suggest the alternative hypothesis is true\")"
      ],
      "execution_count": 42,
      "outputs": [
        {
          "output_type": "stream",
          "name": "stdout",
          "text": [
            "z_stat: -2.198, p_value: 0.013960406995562899337692819302\n",
            "Reject the null hypothesis - suggest the alternative hypothesis is true\n"
          ]
        }
      ]
    },
    {
      "cell_type": "markdown",
      "metadata": {
        "cell_id": "53ffc7905bea42bfacfb21a80e497be3",
        "deepnote_app_coordinates": {
          "h": 5,
          "w": 12,
          "x": 0,
          "y": 403
        },
        "deepnote_cell_type": "markdown",
        "id": "3CcM-5Jzv07P"
      },
      "source": [
        "#### Gun Sense vs NRA Endorsements"
      ]
    },
    {
      "cell_type": "code",
      "metadata": {
        "cell_id": "947d01576e1544dbb58c3e5672371568",
        "source_hash": null,
        "execution_start": 1673502002720,
        "execution_millis": 5,
        "deepnote_app_coordinates": {
          "h": 5,
          "w": 12,
          "x": 0,
          "y": 409
        },
        "deepnote_to_be_reexecuted": false,
        "deepnote_cell_type": "code",
        "id": "DRF7HnpGv07P",
        "outputId": "d0307884-fe1a-4e2d-97e6-1074851eee96",
        "colab": {
          "base_uri": "https://localhost:8080/"
        }
      },
      "source": [
        "# a = Gun Sense,  b = NRA\n",
        "\n",
        "significance = 0.05\n",
        "\n",
        "sample_success_guns_sense, sample_size_guns_sense = (gun_sense_num,gun_sense_den)\n",
        "sample_success_nra, sample_size_nra = (nra_num,nra_den)\n",
        "\n",
        "successes = np.array([sample_success_guns_sense, sample_success_nra])\n",
        "samples = np.array([sample_size_guns_sense, sample_success_nra])\n",
        "\n",
        "stat, p_value = proportions_ztest(count=successes, nobs=samples,  alternative='smaller')\n",
        "\n",
        "print('z_stat: %0.3f, p_value: %0.30f' % (stat, p_value))\n",
        "\n",
        "if p_value > significance:\n",
        "    print (\"Fail to reject the null hypothesis - we have nothing else to say\")\n",
        "else:\n",
        "    print(\"Reject the null hypothesis - suggest the alternative hypothesis is true\")"
      ],
      "execution_count": 43,
      "outputs": [
        {
          "output_type": "stream",
          "name": "stdout",
          "text": [
            "z_stat: -3.357, p_value: 0.000393969584429280342448287389\n",
            "Reject the null hypothesis - suggest the alternative hypothesis is true\n"
          ]
        }
      ]
    },
    {
      "cell_type": "markdown",
      "metadata": {
        "cell_id": "8f84aaf501a24b18a42d13df7bb19d97",
        "deepnote_app_coordinates": {
          "h": 5,
          "w": 12,
          "x": 0,
          "y": 415
        },
        "deepnote_cell_type": "markdown",
        "id": "3ng0MknLv07P"
      },
      "source": [
        "#### Biden vs Trump Endorsements"
      ]
    },
    {
      "cell_type": "code",
      "metadata": {
        "cell_id": "d9b05fd79b814fb08451aa3f0d8bc8f8",
        "source_hash": null,
        "execution_start": 1673502002724,
        "execution_millis": 5,
        "deepnote_app_coordinates": {
          "h": 5,
          "w": 12,
          "x": 0,
          "y": 421
        },
        "deepnote_to_be_reexecuted": false,
        "deepnote_cell_type": "code",
        "id": "iioEFWdyv07P",
        "outputId": "3b00d75a-270b-4224-a33e-c900c0a99641",
        "colab": {
          "base_uri": "https://localhost:8080/"
        }
      },
      "source": [
        "# a = Biden,  b = Trump\n",
        "\n",
        "significance = 0.05\n",
        "\n",
        "sample_success_biden, sample_size_biden = (biden_num,biden_den)\n",
        "sample_success_trump, sample_size_trump = (trump_num,trump_den)\n",
        "\n",
        "successes = np.array([sample_success_biden, sample_success_trump])\n",
        "samples = np.array([sample_size_biden, sample_success_trump])\n",
        "\n",
        "stat, p_value = proportions_ztest(count=successes, nobs=samples,  alternative='smaller')\n",
        "\n",
        "print('z_stat: %0.3f, p_value: %0.30f' % (stat, p_value))\n",
        "\n",
        "if p_value > significance:\n",
        "    print (\"Fail to reject the null hypothesis - we have nothing else to say\")\n",
        "else:\n",
        "    print(\"Reject the null hypothesis - suggest the alternative hypothesis is true\")"
      ],
      "execution_count": 44,
      "outputs": [
        {
          "output_type": "stream",
          "name": "stdout",
          "text": [
            "z_stat: nan, p_value: nan\n",
            "Reject the null hypothesis - suggest the alternative hypothesis is true\n"
          ]
        },
        {
          "output_type": "stream",
          "name": "stderr",
          "text": [
            "/usr/local/lib/python3.10/dist-packages/statsmodels/stats/weightstats.py:792: RuntimeWarning: invalid value encountered in double_scalars\n",
            "  zstat = value / std\n"
          ]
        }
      ]
    },
    {
      "cell_type": "markdown",
      "metadata": {
        "tags": [],
        "cell_id": "147fc54cdcf248268c47c12288dfb985",
        "is_collapsed": false,
        "formattedRanges": [],
        "deepnote_app_coordinates": {
          "h": 5,
          "w": 12,
          "x": 0,
          "y": 427
        },
        "deepnote_cell_type": "text-cell-h3",
        "id": "QoLbYjR_v07P"
      },
      "source": [
        "### c. Bootstrapping"
      ]
    },
    {
      "cell_type": "code",
      "metadata": {
        "cell_id": "32f37d44a5ac4f98af71209497a35997",
        "source_hash": null,
        "execution_start": 1673502002737,
        "execution_millis": 0,
        "deepnote_app_coordinates": {
          "h": 5,
          "w": 12,
          "x": 0,
          "y": 433
        },
        "deepnote_to_be_reexecuted": false,
        "deepnote_cell_type": "code",
        "id": "ktSVhPeSv07Q"
      },
      "source": [
        "# Calculates p-values given an array of proportions and a test type\n",
        "def calc_p_values(arr,test_type):\n",
        "    significance = 0.05\n",
        "    p_values = []\n",
        "\n",
        "    for i in range(len(arr)):\n",
        "        sample_success_a, sample_size_a = (arr[i][0],arr[i][1])\n",
        "        sample_success_b, sample_size_b = (arr[i][2], arr[i][3])\n",
        "\n",
        "        successes = np.array([sample_success_a, sample_success_b])\n",
        "        samples = np.array([sample_size_a, sample_size_b])\n",
        "\n",
        "        stat, p_value = proportions_ztest(count=successes, nobs=samples,  alternative= test_type)\n",
        "        p_values = np.append(p_values, p_value)\n",
        "\n",
        "    return p_values"
      ],
      "execution_count": 45,
      "outputs": []
    },
    {
      "cell_type": "code",
      "metadata": {
        "cell_id": "4c9da26462c74b419ce8e6e00ef9f38a",
        "source_hash": null,
        "execution_start": 1673502002738,
        "execution_millis": 2,
        "deepnote_app_coordinates": {
          "h": 5,
          "w": 12,
          "x": 0,
          "y": 439
        },
        "deepnote_to_be_reexecuted": false,
        "deepnote_cell_type": "code",
        "id": "3fgdyoTGv07Q"
      },
      "source": [
        "# Fill in the desired number of samples and repetitions\n",
        "num_samples = 500\n",
        "repetitions = 500"
      ],
      "execution_count": 46,
      "outputs": []
    },
    {
      "cell_type": "markdown",
      "metadata": {
        "cell_id": "613bc3b0f17d4191858d6a7ced8d9c57",
        "deepnote_app_coordinates": {
          "h": 5,
          "w": 12,
          "x": 0,
          "y": 445
        },
        "deepnote_cell_type": "markdown",
        "id": "UCtfPmuhv07Q"
      },
      "source": [
        "#### Republican Party"
      ]
    },
    {
      "cell_type": "code",
      "metadata": {
        "cell_id": "6995f5ded45a4443b0230e31e3ed4d5e",
        "source_hash": null,
        "execution_start": 1673502002744,
        "execution_millis": 1604,
        "deepnote_app_coordinates": {
          "h": 5,
          "w": 12,
          "x": 0,
          "y": 451
        },
        "deepnote_to_be_reexecuted": false,
        "deepnote_cell_type": "code",
        "id": "KXKrsMECv07Q",
        "outputId": "bc67f2bf-b230-4a91-8e67-b2652e474d09",
        "colab": {
          "base_uri": "https://localhost:8080/"
        }
      },
      "source": [
        "def rep_one_bootstrap_diff():\n",
        "    dem_resampled_table = dem_cleaned.sample(num_samples)\n",
        "    rep_resampled_table = rep_cleaned.sample(num_samples)\n",
        "\n",
        "    rep_treatment_num = len(rep_resampled_table[(rep_resampled_table['Rep Party Support?']==1)\n",
        "                                                & (rep_resampled_table['Primary Status']==1)])\n",
        "    rep_treatment_den = len(rep_resampled_table[rep_resampled_table['Rep Party Support?']==1])\n",
        "\n",
        "    rep_control_num = len(rep_resampled_table[(rep_resampled_table['Rep Party Support?']==0)\n",
        "                                              & (rep_resampled_table['Primary Status']==1)])\n",
        "    rep_control_den = len(rep_resampled_table[rep_resampled_table['Rep Party Support?']==0])\n",
        "\n",
        "    rep_treatment_prop = rep_treatment_num / rep_treatment_den\n",
        "    rep_control_prop = rep_control_num / rep_control_den\n",
        "    diff_prop = rep_treatment_prop - rep_control_prop\n",
        "\n",
        "    return [rep_treatment_num, rep_treatment_den, rep_control_num, rep_control_den, diff_prop]\n",
        "\n",
        "np.random.seed(123)\n",
        "num_repetitions = repetitions\n",
        "rep_bs_prop = []\n",
        "rep_diff_prop = []\n",
        "for i in np.arange(num_repetitions):\n",
        "    rep_diff = rep_one_bootstrap_diff()\n",
        "    rep_diff_prop.append(rep_diff)\n",
        "    rep_bs_prop = np.append(rep_bs_prop, rep_diff[4])\n",
        "\n",
        "left = np.quantile(rep_bs_prop, 0.025)\n",
        "right = np.quantile(rep_bs_prop, 0.975)\n",
        "[left, right]"
      ],
      "execution_count": 47,
      "outputs": [
        {
          "output_type": "execute_result",
          "data": {
            "text/plain": [
              "[0.21620094958804634, 0.42022050856967363]"
            ]
          },
          "metadata": {},
          "execution_count": 47
        }
      ]
    },
    {
      "cell_type": "markdown",
      "metadata": {
        "cell_id": "ed584164e9544a2f8edb1e42d762454a",
        "deepnote_app_coordinates": {
          "h": 5,
          "w": 12,
          "x": 0,
          "y": 457
        },
        "deepnote_cell_type": "markdown",
        "id": "jcuyRExQv07Q"
      },
      "source": [
        "#### Democratic Party"
      ]
    },
    {
      "cell_type": "code",
      "metadata": {
        "cell_id": "658ea3ca2f0a43f3a81d8e4fa403a3e2",
        "source_hash": null,
        "execution_start": 1673502004354,
        "execution_millis": 1521,
        "deepnote_app_coordinates": {
          "h": 5,
          "w": 12,
          "x": 0,
          "y": 463
        },
        "deepnote_to_be_reexecuted": false,
        "deepnote_cell_type": "code",
        "id": "TYyT1ioSv07Q",
        "outputId": "1abe096f-4338-42c3-92b3-960252ea759a",
        "colab": {
          "base_uri": "https://localhost:8080/"
        }
      },
      "source": [
        "def dem_one_bootstrap_diff():\n",
        "    dem_resampled_table = dem_cleaned.sample(num_samples)\n",
        "    rep_resampled_table = rep_cleaned.sample(num_samples)\n",
        "\n",
        "    dem_treatment_num = len(dem_resampled_table[(dem_resampled_table['Party Support?']==1)\n",
        "                                                & (dem_resampled_table['Primary Status']==1)])\n",
        "    dem_treatment_den = len(dem_resampled_table[dem_resampled_table['Party Support?']==1])\n",
        "\n",
        "    dem_control_num = len(dem_resampled_table[(dem_resampled_table['Party Support?']==0)\n",
        "                                              & (dem_resampled_table['Primary Status']==1)])\n",
        "    dem_control_den = len(dem_resampled_table[dem_resampled_table['Party Support?']==0])\n",
        "\n",
        "    dem_treatment_prop = dem_treatment_num / dem_treatment_den\n",
        "    dem_control_prop = dem_control_num /dem_control_den\n",
        "    diff_prop = dem_treatment_prop - dem_control_prop\n",
        "\n",
        "    return [dem_treatment_num, dem_treatment_den, dem_control_num, dem_control_den, diff_prop]\n",
        "\n",
        "np.random.seed(123)\n",
        "num_repetitions = repetitions\n",
        "dem_bs_prop = []\n",
        "dem_diff_prop = []\n",
        "for i in np.arange(num_repetitions):\n",
        "    dem_diff = dem_one_bootstrap_diff()\n",
        "    dem_diff_prop.append(dem_diff)\n",
        "    dem_bs_prop = np.append(dem_bs_prop, dem_diff[4])\n",
        "\n",
        "left = np.quantile(dem_bs_prop, 0.025)\n",
        "right = np.quantile(dem_bs_prop, 0.975)\n",
        "[left, right]"
      ],
      "execution_count": 48,
      "outputs": [
        {
          "output_type": "execute_result",
          "data": {
            "text/plain": [
              "[0.6017984068627451, 0.7163865546218487]"
            ]
          },
          "metadata": {},
          "execution_count": 48
        }
      ]
    },
    {
      "cell_type": "markdown",
      "metadata": {
        "cell_id": "2e55c2a4e87943f69380282bbf32fbe1",
        "deepnote_app_coordinates": {
          "h": 5,
          "w": 12,
          "x": 0,
          "y": 469
        },
        "deepnote_cell_type": "markdown",
        "id": "KAt__fNYv07Q"
      },
      "source": [
        "#### Emily's List vs Right to Life Endorsements"
      ]
    },
    {
      "cell_type": "code",
      "metadata": {
        "cell_id": "8a70ef37a29d4a92a09c735f82d02d7f",
        "source_hash": null,
        "execution_start": 1673502005888,
        "execution_millis": 1539,
        "deepnote_app_coordinates": {
          "h": 5,
          "w": 12,
          "x": 0,
          "y": 475
        },
        "deepnote_to_be_reexecuted": false,
        "deepnote_cell_type": "code",
        "id": "-wWNNyS0v07R",
        "outputId": "9d3cd3dc-9fad-42a5-f94d-719d97eda298",
        "colab": {
          "base_uri": "https://localhost:8080/"
        }
      },
      "source": [
        "def em_right_one_bootstrap_diff():\n",
        "    dem_resampled_table = dem_cleaned.sample(num_samples)\n",
        "    rep_resampled_table = rep_cleaned.sample(num_samples)\n",
        "\n",
        "    em_list_num = len(dem_resampled_table[(dem_resampled_table['Emily Endorsed?']==1)\n",
        "                                          & (dem_resampled_table['Primary Status']==1)])\n",
        "    em_list_den = len(dem_resampled_table[dem_resampled_table['Emily Endorsed?']==1])\n",
        "    right_to_life_num = len(rep_resampled_table[(rep_resampled_table['Right to Life Endorsed?']==1)\n",
        "                                                & (rep_resampled_table['Primary Status']==1)])\n",
        "    right_to_life_den = len(rep_resampled_table[rep_resampled_table['Right to Life Endorsed?']==1])\n",
        "\n",
        "    em_list_prop = em_list_num / em_list_den\n",
        "    right_to_life_prop = right_to_life_num / right_to_life_den\n",
        "    diff_prop = em_list_prop - right_to_life_prop\n",
        "    return [em_list_num, em_list_den, right_to_life_num, right_to_life_den, diff_prop]\n",
        "\n",
        "np.random.seed(123)\n",
        "num_repetitions = repetitions\n",
        "em_right_bs_prop = []\n",
        "em_right_diff_prop = []\n",
        "for i in np.arange(num_repetitions):\n",
        "    em_right_diff = em_right_one_bootstrap_diff()\n",
        "    em_right_diff_prop.append(em_right_diff)\n",
        "    em_right_bs_prop = np.append(em_right_bs_prop, em_right_diff[4])\n",
        "\n",
        "left = np.quantile(em_right_bs_prop, 0.025)\n",
        "right = np.quantile(em_right_bs_prop, .975)\n",
        "\n",
        "[left, right]"
      ],
      "execution_count": 49,
      "outputs": [
        {
          "output_type": "execute_result",
          "data": {
            "text/plain": [
              "[0.15852182539682538, 0.4044489247311827]"
            ]
          },
          "metadata": {},
          "execution_count": 49
        }
      ]
    },
    {
      "cell_type": "markdown",
      "metadata": {
        "cell_id": "4fc3e17b53824eddb54dc77612f0ab9a",
        "deepnote_app_coordinates": {
          "h": 5,
          "w": 12,
          "x": 0,
          "y": 481
        },
        "deepnote_cell_type": "markdown",
        "id": "S4yUKT6Pv07R"
      },
      "source": [
        "#### Our Revolution vs Club for Growth Endorsements"
      ]
    },
    {
      "cell_type": "code",
      "metadata": {
        "cell_id": "d6e18fbc4e1c454ca11ace9903d649ad",
        "source_hash": null,
        "execution_start": 1673502007431,
        "execution_millis": 1549,
        "deepnote_app_coordinates": {
          "h": 5,
          "w": 12,
          "x": 0,
          "y": 487
        },
        "deepnote_to_be_reexecuted": false,
        "deepnote_cell_type": "code",
        "id": "XNJza-6vv07R",
        "outputId": "05249545-772f-472d-c7a2-d7d058d0f44e",
        "colab": {
          "base_uri": "https://localhost:8080/"
        }
      },
      "source": [
        "def revolution_growth_bootstrap_diff():\n",
        "    dem_resampled_table = dem_cleaned.sample(num_samples)\n",
        "    rep_resampled_table = rep_cleaned.sample(num_samples)\n",
        "\n",
        "    our_rev_num = len(dem_resampled_table[(dem_resampled_table['Our Revolution Endorsed?']==1)\n",
        "                                          & (dem_resampled_table['Primary Status']==1)])\n",
        "    our_rev_den = len(dem_resampled_table[dem_resampled_table['Our Revolution Endorsed?']==1])\n",
        "\n",
        "    club_growth_num = len(rep_resampled_table[(rep_resampled_table['Club for Growth Endorsed?']==1)\n",
        "                                              & (rep_resampled_table['Primary Status']==1)])\n",
        "    club_growth_den = len(rep_resampled_table[rep_resampled_table['Club for Growth Endorsed?']==1])\n",
        "\n",
        "    our_rev_prop = our_rev_num / our_rev_den\n",
        "    club_growth_prop = club_growth_num / club_growth_den\n",
        "    diff_prop = club_growth_prop - our_rev_prop\n",
        "\n",
        "    return [our_rev_num, our_rev_den, club_growth_num, club_growth_den, diff_prop]\n",
        "\n",
        "np.random.seed(123)\n",
        "num_repetitions = repetitions\n",
        "revolution_growth_bs_prop = []\n",
        "revolution_growth_diff_prop = []\n",
        "for i in np.arange(num_repetitions):\n",
        "    revolution_growth_diff = revolution_growth_bootstrap_diff()\n",
        "    revolution_growth_diff_prop.append(revolution_growth_diff)\n",
        "    revolution_growth_bs_prop = np.append(revolution_growth_bs_prop, revolution_growth_diff[4])\n",
        "\n",
        "left = np.quantile(revolution_growth_bs_prop, 0.025)\n",
        "right = np.quantile(revolution_growth_bs_prop, 0.975)\n",
        "\n",
        "[left, right]"
      ],
      "execution_count": 50,
      "outputs": [
        {
          "output_type": "execute_result",
          "data": {
            "text/plain": [
              "[0.10179245283018866, 0.47046969696969687]"
            ]
          },
          "metadata": {},
          "execution_count": 50
        }
      ]
    },
    {
      "cell_type": "markdown",
      "metadata": {
        "cell_id": "b3a9a5c3a9904ca4b78e2eaa1075071f",
        "deepnote_app_coordinates": {
          "h": 5,
          "w": 12,
          "x": 0,
          "y": 493
        },
        "deepnote_cell_type": "markdown",
        "id": "8UnN8NUZv07R"
      },
      "source": [
        "#### Gun Sense vs NRA Endorsements"
      ]
    },
    {
      "cell_type": "code",
      "metadata": {
        "cell_id": "764eca617ad7491d854f612812069d72",
        "source_hash": null,
        "execution_start": 1673502008990,
        "execution_millis": 1574,
        "deepnote_app_coordinates": {
          "h": 5,
          "w": 12,
          "x": 0,
          "y": 499
        },
        "deepnote_to_be_reexecuted": false,
        "deepnote_cell_type": "code",
        "id": "lnxoX_76v07R",
        "outputId": "fe4468f2-c95b-4cf4-abc5-fa5efe248c5d",
        "colab": {
          "base_uri": "https://localhost:8080/"
        }
      },
      "source": [
        "def gun_nra_bootstrap_diff():\n",
        "    dem_resampled_table = dem_cleaned.sample(num_samples)\n",
        "    rep_resampled_table = rep_cleaned.sample(num_samples)\n",
        "\n",
        "    guns_sense_num = len(dem_resampled_table[(dem_resampled_table['Guns Sense Candidate?']==1)\n",
        "                                             & (dem_resampled_table['Primary Status']==1)])\n",
        "    guns_sense_den = len(dem_resampled_table[dem_resampled_table['Guns Sense Candidate?']==1])\n",
        "\n",
        "    nra_num = len(rep_resampled_table[(rep_resampled_table['NRA Endorsed?']==1)\n",
        "                                      & (rep_resampled_table['Primary Status']==1)])\n",
        "    nra_den = len(rep_resampled_table[rep_resampled_table['NRA Endorsed?']==1])\n",
        "\n",
        "    guns_sense_prop = guns_sense_num / guns_sense_den\n",
        "    nra_prop = nra_num / nra_den\n",
        "    diff_prop = guns_sense_prop - nra_prop\n",
        "\n",
        "    return [guns_sense_num, guns_sense_den, nra_num, nra_den, diff_prop]\n",
        "\n",
        "np.random.seed(123)\n",
        "num_repetitions = repetitions\n",
        "guns_nra_bs_prop = []\n",
        "guns_nra_diff_prop = []\n",
        "for i in np.arange(num_repetitions):\n",
        "    guns_nra_diff = gun_nra_bootstrap_diff()\n",
        "    guns_nra_diff_prop.append(guns_nra_diff)\n",
        "    guns_nra_bs_prop = np.append(guns_nra_bs_prop, guns_nra_diff[4])\n",
        "\n",
        "left = np.quantile(guns_nra_bs_prop, 0.025)\n",
        "right = np.quantile(guns_nra_bs_prop, .975)\n",
        "\n",
        "[left, right]"
      ],
      "execution_count": 51,
      "outputs": [
        {
          "output_type": "execute_result",
          "data": {
            "text/plain": [
              "[-0.4562595785440613, -0.05186585542517746]"
            ]
          },
          "metadata": {},
          "execution_count": 51
        }
      ]
    },
    {
      "cell_type": "markdown",
      "metadata": {
        "cell_id": "e08cc45154174dd6ab57ff77889b18a0",
        "deepnote_app_coordinates": {
          "h": 5,
          "w": 12,
          "x": 0,
          "y": 505
        },
        "deepnote_cell_type": "markdown",
        "id": "an5Ec_Mxv07S"
      },
      "source": [
        "#### Biden vs Trump Endorsements"
      ]
    },
    {
      "cell_type": "code",
      "metadata": {
        "cell_id": "532abefe1b324a49b4a540fe2b3b6bcc",
        "source_hash": null,
        "execution_start": 1673502010568,
        "execution_millis": 1516,
        "deepnote_app_coordinates": {
          "h": 5,
          "w": 12,
          "x": 0,
          "y": 511
        },
        "deepnote_to_be_reexecuted": false,
        "deepnote_cell_type": "code",
        "id": "NcgPefmpv07S",
        "outputId": "eb59debd-c541-4c39-82c7-9f5aed2457b0",
        "colab": {
          "base_uri": "https://localhost:8080/"
        }
      },
      "source": [
        "def biden_trump_one_bootstrap_diff():\n",
        "    dem_resampled_table = dem_cleaned.sample(num_samples)\n",
        "    rep_resampled_table = rep_cleaned.sample(num_samples)\n",
        "\n",
        "    biden_num = len(dem_resampled_table[(dem_resampled_table['Biden Endorsed?']==1)\n",
        "                                        & (dem_resampled_table['Primary Status']==1)])\n",
        "    biden_den = len(dem_resampled_table[(dem_resampled_table['Biden Endorsed?']==1)])\n",
        "\n",
        "    trump_num = len(rep_resampled_table[(rep_resampled_table['Trump Endorsed?']==1)\n",
        "                                        & (rep_resampled_table['Primary Status']==1)])\n",
        "    trump_den = len(rep_resampled_table[(rep_resampled_table['Trump Endorsed?']==1)])\n",
        "\n",
        "    biden_prop = biden_num / biden_den\n",
        "    trump_prop = trump_num / trump_den\n",
        "\n",
        "    diff_prop = biden_prop - trump_prop\n",
        "\n",
        "    return [biden_num, biden_den, trump_num, trump_den, diff_prop]\n",
        "\n",
        "np.random.seed(123)\n",
        "num_repetitions = repetitions\n",
        "biden_trump_bs_prop = []\n",
        "biden_trump_diff_prop = []\n",
        "\n",
        "for i in np.arange(num_repetitions):\n",
        "    biden_trump_diff = biden_trump_one_bootstrap_diff()\n",
        "    biden_trump_diff_prop.append(biden_trump_diff)\n",
        "    biden_trump_bs_prop = np.append(biden_trump_bs_prop, biden_trump_diff[4])\n",
        "\n",
        "left = np.quantile(biden_trump_bs_prop, 0.025)\n",
        "right = np.quantile(biden_trump_bs_prop, .975)\n",
        "\n",
        "[left, right]"
      ],
      "execution_count": 52,
      "outputs": [
        {
          "output_type": "execute_result",
          "data": {
            "text/plain": [
              "[0.0, 0.2222222222222222]"
            ]
          },
          "metadata": {},
          "execution_count": 52
        }
      ]
    },
    {
      "cell_type": "markdown",
      "metadata": {
        "tags": [],
        "cell_id": "f99016a21f954719b8f397aed1363146",
        "is_collapsed": false,
        "formattedRanges": [],
        "deepnote_app_coordinates": {
          "h": 5,
          "w": 12,
          "x": 0,
          "y": 517
        },
        "deepnote_cell_type": "text-cell-h3",
        "id": "uyaI5qCEv07S"
      },
      "source": [
        "### d. Correction Methods"
      ]
    },
    {
      "cell_type": "code",
      "metadata": {
        "cell_id": "a54886aede134dd39d2777d1213b8647",
        "source_hash": null,
        "execution_start": 1673502012082,
        "execution_millis": 7,
        "deepnote_app_coordinates": {
          "h": 5,
          "w": 12,
          "x": 0,
          "y": 523
        },
        "deepnote_to_be_reexecuted": false,
        "deepnote_cell_type": "code",
        "id": "7XHPn-r-v07S"
      },
      "source": [
        "def bonferroni(p_values, alpha_total):\n",
        "    decisions = (p_values <= (alpha_total / len(p_values)))\n",
        "    return decisions"
      ],
      "execution_count": 53,
      "outputs": []
    },
    {
      "cell_type": "code",
      "metadata": {
        "cell_id": "2a1dc285eab24905ac28fc251faf8313",
        "source_hash": null,
        "execution_start": 1673502012095,
        "execution_millis": 1,
        "deepnote_app_coordinates": {
          "h": 5,
          "w": 12,
          "x": 0,
          "y": 529
        },
        "deepnote_to_be_reexecuted": false,
        "deepnote_cell_type": "code",
        "id": "hggLNxIDv07S"
      },
      "source": [
        "def benjamini_hochberg(p_values, alpha):\n",
        "    n = len(p_values)\n",
        "    sorted_p = np.sort(p_values)\n",
        "\n",
        "    max_k = max([k for k in range(n) if sorted_p[k] <= (k + 1) * (alpha / n)])\n",
        "    threshold = sorted_p[max_k]\n",
        "    decisions = p_values <= threshold\n",
        "\n",
        "    return decisions"
      ],
      "execution_count": 54,
      "outputs": []
    },
    {
      "cell_type": "markdown",
      "metadata": {
        "cell_id": "0f58076cbeaf488391b94def18c1fb7a",
        "deepnote_app_coordinates": {
          "h": 5,
          "w": 12,
          "x": 0,
          "y": 535
        },
        "deepnote_cell_type": "markdown",
        "id": "oSU7wktcv07S"
      },
      "source": [
        "#### Republican Party"
      ]
    },
    {
      "cell_type": "code",
      "metadata": {
        "cell_id": "069f8e52121143c989b514f9644ef4af",
        "source_hash": null,
        "execution_start": 1673502012098,
        "execution_millis": 5,
        "deepnote_app_coordinates": {
          "h": 5,
          "w": 12,
          "x": 0,
          "y": 541
        },
        "deepnote_to_be_reexecuted": false,
        "deepnote_cell_type": "code",
        "id": "1vkHBOVDv07S"
      },
      "source": [
        "# Set an alpha value\n",
        "my_alpha = 0.05"
      ],
      "execution_count": 55,
      "outputs": []
    },
    {
      "cell_type": "code",
      "metadata": {
        "cell_id": "8c21f106e15c418d9a4fdc1c00bad987",
        "source_hash": null,
        "execution_start": 1673502012106,
        "execution_millis": 120,
        "deepnote_app_coordinates": {
          "h": 5,
          "w": 12,
          "x": 0,
          "y": 547
        },
        "deepnote_to_be_reexecuted": false,
        "deepnote_cell_type": "code",
        "id": "FZ7wzigIv07S",
        "outputId": "2004f8ab-4873-485f-aa57-21ddda2173fe",
        "colab": {
          "base_uri": "https://localhost:8080/"
        }
      },
      "source": [
        "rep_p_values = calc_p_values(rep_diff_prop, 'two-sided')\n",
        "\n",
        "rep_bonferroni_decisions = bonferroni(rep_p_values, my_alpha)\n",
        "rep_bh_decisions = benjamini_hochberg(rep_p_values, my_alpha)\n",
        "\n",
        "print(\"Bonferroni: \" + str(np.count_nonzero(rep_bonferroni_decisions == True))\n",
        "      + \" / \" + str(num_samples) + \" samples reject the null\")\n",
        "print(\"BH: \" + str(np.count_nonzero(rep_bh_decisions == True))\n",
        "      + \" / \" + str(num_samples) + \" samples reject the null\")"
      ],
      "execution_count": 56,
      "outputs": [
        {
          "output_type": "stream",
          "name": "stdout",
          "text": [
            "Bonferroni: 280 / 500 samples reject the null\n",
            "BH: 500 / 500 samples reject the null\n"
          ]
        }
      ]
    },
    {
      "cell_type": "markdown",
      "metadata": {
        "cell_id": "6b56842fb0ec4fb5a754b9f767310c7a",
        "deepnote_app_coordinates": {
          "h": 5,
          "w": 12,
          "x": 0,
          "y": 553
        },
        "deepnote_cell_type": "markdown",
        "id": "QeSb61Fxv07T"
      },
      "source": [
        "#### Democratic Party"
      ]
    },
    {
      "cell_type": "code",
      "metadata": {
        "cell_id": "19e200bba7e2465ebf81ee1afa86c849",
        "source_hash": null,
        "execution_start": 1673502012228,
        "execution_millis": 7,
        "deepnote_app_coordinates": {
          "h": 5,
          "w": 12,
          "x": 0,
          "y": 559
        },
        "deepnote_to_be_reexecuted": false,
        "deepnote_cell_type": "code",
        "id": "13LAmXLHv07T"
      },
      "source": [
        "# Set an alpha value\n",
        "my_alpha = 0.05"
      ],
      "execution_count": 57,
      "outputs": []
    },
    {
      "cell_type": "code",
      "metadata": {
        "cell_id": "52c12556255948179f28593c9e568c06",
        "source_hash": null,
        "execution_start": 1673502012280,
        "execution_millis": 58,
        "deepnote_app_coordinates": {
          "h": 5,
          "w": 12,
          "x": 0,
          "y": 565
        },
        "deepnote_to_be_reexecuted": false,
        "deepnote_cell_type": "code",
        "id": "HXsttQqtv07T",
        "outputId": "88753eea-aee2-4624-ef16-4b35e03dfab7",
        "colab": {
          "base_uri": "https://localhost:8080/"
        }
      },
      "source": [
        "dem_p_values = calc_p_values(dem_diff_prop, 'two-sided')\n",
        "\n",
        "dem_bonferroni_decisions = bonferroni(dem_p_values, my_alpha)\n",
        "dem_bh_decisions = benjamini_hochberg(dem_p_values, my_alpha)\n",
        "\n",
        "print(\"Bonferroni: \" + str(np.count_nonzero(dem_bonferroni_decisions == True))\n",
        "      + \" / \" + str(num_samples) + \" samples reject the null\")\n",
        "print(\"BH: \" + str(np.count_nonzero(dem_bh_decisions == True))\n",
        "      + \" / \" + str(num_samples) + \" samples reject the null\")"
      ],
      "execution_count": 58,
      "outputs": [
        {
          "output_type": "stream",
          "name": "stdout",
          "text": [
            "Bonferroni: 500 / 500 samples reject the null\n",
            "BH: 500 / 500 samples reject the null\n"
          ]
        }
      ]
    },
    {
      "cell_type": "markdown",
      "metadata": {
        "cell_id": "fe628b11f96f4a7f8cc36f5837bf7f02",
        "deepnote_app_coordinates": {
          "h": 5,
          "w": 12,
          "x": 0,
          "y": 571
        },
        "deepnote_cell_type": "markdown",
        "id": "oyUm8HuVv07T"
      },
      "source": [
        "#### Emily's List vs Right to Life"
      ]
    },
    {
      "cell_type": "code",
      "metadata": {
        "cell_id": "449b5354543445248c8f7686d3b21e83",
        "source_hash": null,
        "execution_start": 1673502012339,
        "execution_millis": 2,
        "deepnote_app_coordinates": {
          "h": 5,
          "w": 12,
          "x": 0,
          "y": 577
        },
        "deepnote_to_be_reexecuted": false,
        "deepnote_cell_type": "code",
        "id": "lHfqO-eTv07T"
      },
      "source": [
        "# Set an alpha value\n",
        "my_alpha = 0.05"
      ],
      "execution_count": 59,
      "outputs": []
    },
    {
      "cell_type": "code",
      "metadata": {
        "cell_id": "ca79d06130224ac3848f2899c6e6069e",
        "source_hash": null,
        "execution_start": 1673502012384,
        "execution_millis": 68,
        "deepnote_app_coordinates": {
          "h": 5,
          "w": 12,
          "x": 0,
          "y": 583
        },
        "deepnote_to_be_reexecuted": false,
        "deepnote_cell_type": "code",
        "id": "KimKnDOfv07T",
        "outputId": "a1ffc47d-ca72-487d-a687-a9b37bc1ec9f",
        "colab": {
          "base_uri": "https://localhost:8080/"
        }
      },
      "source": [
        "em_right_p_values = calc_p_values(em_right_diff_prop, \"larger\")\n",
        "\n",
        "em_right_bonferroni_decisions = bonferroni(em_right_p_values, my_alpha)\n",
        "em_right_bh_decisions = benjamini_hochberg(em_right_p_values, my_alpha)\n",
        "\n",
        "print(\"Bonferroni: \" + str(np.count_nonzero(em_right_bonferroni_decisions == True))\n",
        "      + \" / \" + str(num_samples) + \" samples reject the null\")\n",
        "print(\"BH: \" + str(np.count_nonzero(em_right_bh_decisions == True))\n",
        "      + \" / \" + str(num_samples) + \" samples reject the null\")"
      ],
      "execution_count": 60,
      "outputs": [
        {
          "output_type": "stream",
          "name": "stdout",
          "text": [
            "Bonferroni: 8 / 500 samples reject the null\n",
            "BH: 467 / 500 samples reject the null\n"
          ]
        }
      ]
    },
    {
      "cell_type": "markdown",
      "metadata": {
        "cell_id": "54d4aab0ec20402db8ee68b9442426e7",
        "deepnote_app_coordinates": {
          "h": 5,
          "w": 12,
          "x": 0,
          "y": 589
        },
        "deepnote_cell_type": "markdown",
        "id": "Y1FWUa-hv07U"
      },
      "source": [
        "#### Our Revolution vs Club for Growth"
      ]
    },
    {
      "cell_type": "code",
      "metadata": {
        "cell_id": "74868048cbde4ebe8d33b18906c5dccf",
        "source_hash": null,
        "execution_start": 1673502012453,
        "execution_millis": 0,
        "deepnote_app_coordinates": {
          "h": 5,
          "w": 12,
          "x": 0,
          "y": 595
        },
        "deepnote_to_be_reexecuted": false,
        "deepnote_cell_type": "code",
        "id": "1Y83NueMv07U"
      },
      "source": [
        "# Set an alpha value\n",
        "my_alpha = 0.05"
      ],
      "execution_count": 61,
      "outputs": []
    },
    {
      "cell_type": "code",
      "metadata": {
        "cell_id": "81adfd6a1f09473bb70d63ab858a61e4",
        "source_hash": null,
        "execution_start": 1673502012500,
        "execution_millis": 74,
        "deepnote_app_coordinates": {
          "h": 5,
          "w": 12,
          "x": 0,
          "y": 601
        },
        "deepnote_to_be_reexecuted": false,
        "deepnote_cell_type": "code",
        "id": "AGEJuTj-v07U",
        "outputId": "6148e350-3b43-4ecc-dcde-244ec18f92ce",
        "colab": {
          "base_uri": "https://localhost:8080/"
        }
      },
      "source": [
        "revolution_growth_p_values = calc_p_values(revolution_growth_diff_prop, \"smaller\")\n",
        "\n",
        "revolution_growth_bonferroni_decisions = bonferroni(revolution_growth_p_values, my_alpha)\n",
        "revolution_growth_bh_decisions = benjamini_hochberg(revolution_growth_p_values, my_alpha)\n",
        "\n",
        "print(\"Bonferroni: \" + str(np.count_nonzero(revolution_growth_bonferroni_decisions == True))\n",
        "      + \" / \" + str(num_samples) + \" samples reject the null\")\n",
        "print(\"BH: \" + str(np.count_nonzero(revolution_growth_bh_decisions == True))\n",
        "      + \" / \" + str(num_samples) + \" samples reject the null\")"
      ],
      "execution_count": 62,
      "outputs": [
        {
          "output_type": "stream",
          "name": "stdout",
          "text": [
            "Bonferroni: 0 / 500 samples reject the null\n",
            "BH: 50 / 500 samples reject the null\n"
          ]
        }
      ]
    },
    {
      "cell_type": "markdown",
      "metadata": {
        "cell_id": "73bc6b0ed0aa40088e971c7fffe5b055",
        "deepnote_app_coordinates": {
          "h": 5,
          "w": 12,
          "x": 0,
          "y": 607
        },
        "deepnote_cell_type": "markdown",
        "id": "bOyDW_k2v07U"
      },
      "source": [
        "#### Gun Sense vs NRA"
      ]
    },
    {
      "cell_type": "code",
      "metadata": {
        "cell_id": "b9d79541efb74cb4b3ef643af9a4f605",
        "source_hash": null,
        "execution_start": 1673502012575,
        "execution_millis": 2,
        "deepnote_app_coordinates": {
          "h": 5,
          "w": 12,
          "x": 0,
          "y": 613
        },
        "deepnote_to_be_reexecuted": false,
        "deepnote_cell_type": "code",
        "id": "rl12jthVv07U"
      },
      "source": [
        "# Set an alpha value\n",
        "my_alpha = 0.05"
      ],
      "execution_count": 63,
      "outputs": []
    },
    {
      "cell_type": "code",
      "metadata": {
        "cell_id": "0f01449bcd3e4fbc91043f25ac518e2f",
        "source_hash": null,
        "execution_start": 1673502012595,
        "execution_millis": 105,
        "deepnote_app_coordinates": {
          "h": 5,
          "w": 12,
          "x": 0,
          "y": 619
        },
        "deepnote_to_be_reexecuted": false,
        "deepnote_cell_type": "code",
        "id": "-Xr5Pk32v07U",
        "outputId": "e3323490-cdac-46dd-dc89-83be933876fc",
        "colab": {
          "base_uri": "https://localhost:8080/"
        }
      },
      "source": [
        "guns_nra_p_values = calc_p_values(guns_nra_diff_prop, 'smaller')\n",
        "\n",
        "guns_nra_bonferroni_decisions = bonferroni(guns_nra_p_values, my_alpha)\n",
        "\n",
        "print(\"Bonferroni: \" + str(np.count_nonzero(guns_nra_bonferroni_decisions == True))\n",
        "      + \" / \" + str(num_samples) + \" samples reject the null\")"
      ],
      "execution_count": 64,
      "outputs": [
        {
          "output_type": "stream",
          "name": "stdout",
          "text": [
            "Bonferroni: 0 / 500 samples reject the null\n"
          ]
        }
      ]
    },
    {
      "cell_type": "markdown",
      "metadata": {
        "cell_id": "52523cb45a2540f0a935a3588fce18e2",
        "deepnote_app_coordinates": {
          "h": 5,
          "w": 12,
          "x": 0,
          "y": 625
        },
        "deepnote_cell_type": "markdown",
        "id": "ekRtU_Jav07U"
      },
      "source": [
        "#### Biden vs Trump"
      ]
    },
    {
      "cell_type": "code",
      "metadata": {
        "cell_id": "e25d782f5b614e6faf08277da0c6811c",
        "source_hash": null,
        "execution_start": 1673502012702,
        "execution_millis": 2,
        "deepnote_app_coordinates": {
          "h": 5,
          "w": 12,
          "x": 0,
          "y": 631
        },
        "deepnote_to_be_reexecuted": false,
        "deepnote_cell_type": "code",
        "id": "kX3HO6jyv07V"
      },
      "source": [
        "# Set an alpha value\n",
        "my_alpha = 0.05"
      ],
      "execution_count": 65,
      "outputs": []
    },
    {
      "cell_type": "code",
      "metadata": {
        "cell_id": "d05a281de0a94f20845b7febfe8117f3",
        "source_hash": null,
        "execution_start": 1673502012708,
        "execution_millis": 96,
        "deepnote_app_coordinates": {
          "h": 5,
          "w": 12,
          "x": 0,
          "y": 637
        },
        "deepnote_to_be_reexecuted": false,
        "deepnote_cell_type": "code",
        "id": "RbeAL6ntv07V",
        "outputId": "77d71688-6192-45c9-b628-f3c5465632ca",
        "colab": {
          "base_uri": "https://localhost:8080/"
        }
      },
      "source": [
        "biden_trump_p_values = calc_p_values(biden_trump_diff_prop, 'smaller')\n",
        "\n",
        "biden_trump_bonferroni_decisions = bonferroni(biden_trump_p_values, my_alpha)\n",
        "\n",
        "print(\"Bonferroni: \" + str(np.count_nonzero(biden_trump_bonferroni_decisions == True))\n",
        "      + \" / \" + str(num_samples) + \" samples reject the null\")"
      ],
      "execution_count": 66,
      "outputs": [
        {
          "output_type": "stream",
          "name": "stdout",
          "text": [
            "Bonferroni: 0 / 500 samples reject the null\n"
          ]
        }
      ]
    }
  ],
  "nbformat": 4,
  "nbformat_minor": 0,
  "metadata": {
    "deepnote": {},
    "kernelspec": {
      "name": "python3",
      "language": "python",
      "display_name": "Python 3 (ipykernel)"
    },
    "language_info": {
      "name": "python",
      "version": "3.9.15",
      "mimetype": "text/x-python",
      "file_extension": ".py",
      "pygments_lexer": "ipython3",
      "codemirror_mode": {
        "name": "ipython",
        "version": 3
      },
      "nbconvert_exporter": "python"
    },
    "deepnote_app_layout": "article",
    "deepnote_notebook_id": "f1b87d53a74842c5b609f3b1420de1e5",
    "deepnote_execution_queue": [],
    "deepnote_persisted_session": {
      "createdAt": "2023-06-12T21:02:27.670Z"
    },
    "colab": {
      "provenance": []
    }
  }
}